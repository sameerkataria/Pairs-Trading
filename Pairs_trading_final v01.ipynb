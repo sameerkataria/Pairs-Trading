{
 "cells": [
  {
   "cell_type": "markdown",
   "id": "99e5ce8d",
   "metadata": {},
   "source": [
    "# Pairs Trading"
   ]
  },
  {
   "cell_type": "markdown",
   "id": "2c2b10d4",
   "metadata": {},
   "source": [
    "### Importing Libraries"
   ]
  },
  {
   "cell_type": "code",
   "execution_count": 2,
   "id": "f79d95d8",
   "metadata": {},
   "outputs": [],
   "source": [
    "import numpy as np\n",
    "import pandas as pd\n",
    "import statsmodels\n",
    "# import statsmodels.api as sm\n",
    "from statsmodels.tsa.stattools import coint, adfuller\n",
    "import matplotlib.pyplot as plt\n",
    "import seaborn as sns; sns.set(style=\"whitegrid\")\n",
    "import yfinance as yf\n",
    "import statsmodels.formula.api as sm"
   ]
  },
  {
   "cell_type": "code",
   "execution_count": 3,
   "id": "39f2e1ce",
   "metadata": {},
   "outputs": [],
   "source": [
    "# Tickers_nifty = pd.read_csv(\"C:/Users/Sameer Kataria/Desktop/New folder/nifty50_tickers.csv\")\n",
    "# ticker_list = Tickers_nifty['Ticker'].to_list()\n",
    "# ticker_list = [s + '.NS' for s in ticker_list]"
   ]
  },
  {
   "cell_type": "code",
   "execution_count": 4,
   "id": "57969240",
   "metadata": {},
   "outputs": [],
   "source": [
    "Tickers_nyse = pd.read_csv(\"tickers_nyse.csv\")\n",
    "# ticker_list = Tickers_nifty['Ticker'].to_list()\n",
    "# ticker_list = [s + '.NS' for s in ticker_list]"
   ]
  },
  {
   "cell_type": "code",
   "execution_count": 5,
   "id": "859dc59c",
   "metadata": {},
   "outputs": [
    {
     "data": {
      "text/plain": [
       "array(['Industrials', 'Health Care', 'Information Technology',\n",
       "       'Communication Services', 'Consumer Staples',\n",
       "       'Consumer Discretionary', 'Utilities', 'Financials', 'Materials',\n",
       "       'Real Estate', 'Energy'], dtype=object)"
      ]
     },
     "execution_count": 5,
     "metadata": {},
     "output_type": "execute_result"
    }
   ],
   "source": [
    "Tickers_nyse[\"Sector\"].unique()"
   ]
  },
  {
   "cell_type": "code",
   "execution_count": 6,
   "id": "9d9c0f4e",
   "metadata": {},
   "outputs": [],
   "source": [
    "health_data=Tickers_nyse[Tickers_nyse[\"Sector\"]==\"Energy\"]"
   ]
  },
  {
   "cell_type": "code",
   "execution_count": 7,
   "id": "ffcb4fd9",
   "metadata": {},
   "outputs": [],
   "source": [
    "ticker_list=health_data.Symbol.values"
   ]
  },
  {
   "cell_type": "code",
   "execution_count": 8,
   "id": "520ad086",
   "metadata": {},
   "outputs": [
    {
     "name": "stdout",
     "output_type": "stream",
     "text": [
      "[*********************100%***********************]  21 of 21 completed\n"
     ]
    }
   ],
   "source": [
    "df = yf.download(\" \".join(ticker_list), start = \"2022-01-31\", end = \"2022-03-20\", interval=\"5m\")[\"Adj Close\"]"
   ]
  },
  {
   "cell_type": "code",
   "execution_count": 9,
   "id": "4261f49c",
   "metadata": {},
   "outputs": [],
   "source": [
    "# df=df.dropna(how=\"all\", axis=1)\n",
    "\n",
    "# df=df[:-1]\n",
    "\n",
    "# df.isna().sum()"
   ]
  },
  {
   "cell_type": "code",
   "execution_count": 10,
   "id": "cae586cb",
   "metadata": {},
   "outputs": [],
   "source": [
    "# df=df[:-1]"
   ]
  },
  {
   "cell_type": "code",
   "execution_count": 11,
   "id": "f0f7b5ba",
   "metadata": {},
   "outputs": [
    {
     "data": {
      "text/plain": [
       "APA     0\n",
       "BKR     0\n",
       "COP     0\n",
       "CTRA    0\n",
       "CVX     0\n",
       "DVN     0\n",
       "EOG     0\n",
       "FANG    0\n",
       "HAL     0\n",
       "HES     0\n",
       "KMI     0\n",
       "MPC     0\n",
       "MRO     0\n",
       "OKE     0\n",
       "OXY     2\n",
       "PSX     0\n",
       "PXD     0\n",
       "SLB     0\n",
       "VLO     0\n",
       "WMB     0\n",
       "XOM     0\n",
       "dtype: int64"
      ]
     },
     "execution_count": 11,
     "metadata": {},
     "output_type": "execute_result"
    }
   ],
   "source": [
    "df.isna().sum()"
   ]
  },
  {
   "cell_type": "code",
   "execution_count": 12,
   "id": "ccbb2e11",
   "metadata": {},
   "outputs": [],
   "source": [
    "data=df.dropna()"
   ]
  },
  {
   "cell_type": "code",
   "execution_count": 13,
   "id": "bcef06ea",
   "metadata": {},
   "outputs": [],
   "source": [
    "data=pd.DataFrame(data=data.values, columns=ticker_list)"
   ]
  },
  {
   "cell_type": "code",
   "execution_count": 14,
   "id": "06099648",
   "metadata": {},
   "outputs": [],
   "source": [
    "# data=pd.DataFrame(data=data.values, columns=Tickers_nifty[\"Ticker\"].values)"
   ]
  },
  {
   "cell_type": "code",
   "execution_count": 15,
   "id": "87cf8c84",
   "metadata": {},
   "outputs": [],
   "source": [
    "n = data.shape[1]\n",
    "score_matrix = np.zeros((n, n))\n",
    "pvalue_matrix = np.ones((n, n))\n",
    "stock = data.columns"
   ]
  },
  {
   "cell_type": "code",
   "execution_count": 16,
   "id": "9506a221",
   "metadata": {},
   "outputs": [
    {
     "data": {
      "text/html": [
       "<div>\n",
       "<style scoped>\n",
       "    .dataframe tbody tr th:only-of-type {\n",
       "        vertical-align: middle;\n",
       "    }\n",
       "\n",
       "    .dataframe tbody tr th {\n",
       "        vertical-align: top;\n",
       "    }\n",
       "\n",
       "    .dataframe thead th {\n",
       "        text-align: right;\n",
       "    }\n",
       "</style>\n",
       "<table border=\"1\" class=\"dataframe\">\n",
       "  <thead>\n",
       "    <tr style=\"text-align: right;\">\n",
       "      <th></th>\n",
       "      <th>APA</th>\n",
       "      <th>BKR</th>\n",
       "      <th>CVX</th>\n",
       "      <th>COP</th>\n",
       "      <th>CTRA</th>\n",
       "      <th>DVN</th>\n",
       "      <th>FANG</th>\n",
       "      <th>EOG</th>\n",
       "      <th>XOM</th>\n",
       "      <th>HAL</th>\n",
       "      <th>...</th>\n",
       "      <th>KMI</th>\n",
       "      <th>MRO</th>\n",
       "      <th>MPC</th>\n",
       "      <th>OXY</th>\n",
       "      <th>OKE</th>\n",
       "      <th>PSX</th>\n",
       "      <th>PXD</th>\n",
       "      <th>SLB</th>\n",
       "      <th>VLO</th>\n",
       "      <th>WMB</th>\n",
       "    </tr>\n",
       "  </thead>\n",
       "  <tbody>\n",
       "    <tr>\n",
       "      <th>0</th>\n",
       "      <td>33.060001</td>\n",
       "      <td>26.900000</td>\n",
       "      <td>88.699997</td>\n",
       "      <td>21.580000</td>\n",
       "      <td>130.955002</td>\n",
       "      <td>50.974998</td>\n",
       "      <td>110.014999</td>\n",
       "      <td>127.635002</td>\n",
       "      <td>30.959999</td>\n",
       "      <td>90.500000</td>\n",
       "      <td>...</td>\n",
       "      <td>71.220001</td>\n",
       "      <td>19.660000</td>\n",
       "      <td>58.929100</td>\n",
       "      <td>37.410000</td>\n",
       "      <td>84.184998</td>\n",
       "      <td>213.552704</td>\n",
       "      <td>39.380001</td>\n",
       "      <td>81.239998</td>\n",
       "      <td>29.510000</td>\n",
       "      <td>74.830002</td>\n",
       "    </tr>\n",
       "    <tr>\n",
       "      <th>1</th>\n",
       "      <td>32.830002</td>\n",
       "      <td>26.770000</td>\n",
       "      <td>88.269997</td>\n",
       "      <td>21.540001</td>\n",
       "      <td>130.380005</td>\n",
       "      <td>50.688599</td>\n",
       "      <td>109.575500</td>\n",
       "      <td>127.760002</td>\n",
       "      <td>30.799999</td>\n",
       "      <td>90.129997</td>\n",
       "      <td>...</td>\n",
       "      <td>71.150002</td>\n",
       "      <td>19.519501</td>\n",
       "      <td>58.860001</td>\n",
       "      <td>37.139999</td>\n",
       "      <td>84.110001</td>\n",
       "      <td>213.330002</td>\n",
       "      <td>39.080002</td>\n",
       "      <td>80.989998</td>\n",
       "      <td>29.500000</td>\n",
       "      <td>74.669998</td>\n",
       "    </tr>\n",
       "    <tr>\n",
       "      <th>2</th>\n",
       "      <td>32.820000</td>\n",
       "      <td>26.775000</td>\n",
       "      <td>88.129997</td>\n",
       "      <td>21.459999</td>\n",
       "      <td>130.490005</td>\n",
       "      <td>50.435001</td>\n",
       "      <td>109.320000</td>\n",
       "      <td>127.539001</td>\n",
       "      <td>30.879999</td>\n",
       "      <td>89.849998</td>\n",
       "      <td>...</td>\n",
       "      <td>71.080002</td>\n",
       "      <td>19.450100</td>\n",
       "      <td>58.861301</td>\n",
       "      <td>37.110600</td>\n",
       "      <td>84.180000</td>\n",
       "      <td>212.360001</td>\n",
       "      <td>39.049999</td>\n",
       "      <td>81.040001</td>\n",
       "      <td>29.530001</td>\n",
       "      <td>75.129997</td>\n",
       "    </tr>\n",
       "    <tr>\n",
       "      <th>3</th>\n",
       "      <td>32.709999</td>\n",
       "      <td>26.719999</td>\n",
       "      <td>87.919998</td>\n",
       "      <td>21.330000</td>\n",
       "      <td>129.847794</td>\n",
       "      <td>50.220001</td>\n",
       "      <td>109.014999</td>\n",
       "      <td>126.989998</td>\n",
       "      <td>30.700001</td>\n",
       "      <td>89.419998</td>\n",
       "      <td>...</td>\n",
       "      <td>70.824997</td>\n",
       "      <td>19.360001</td>\n",
       "      <td>59.000000</td>\n",
       "      <td>36.970001</td>\n",
       "      <td>83.929901</td>\n",
       "      <td>212.589996</td>\n",
       "      <td>38.939999</td>\n",
       "      <td>80.580002</td>\n",
       "      <td>29.510000</td>\n",
       "      <td>74.839996</td>\n",
       "    </tr>\n",
       "    <tr>\n",
       "      <th>4</th>\n",
       "      <td>32.669998</td>\n",
       "      <td>26.700001</td>\n",
       "      <td>87.665001</td>\n",
       "      <td>21.158400</td>\n",
       "      <td>129.789993</td>\n",
       "      <td>50.146198</td>\n",
       "      <td>108.620003</td>\n",
       "      <td>126.315002</td>\n",
       "      <td>30.590000</td>\n",
       "      <td>89.330002</td>\n",
       "      <td>...</td>\n",
       "      <td>70.660004</td>\n",
       "      <td>19.325001</td>\n",
       "      <td>58.770100</td>\n",
       "      <td>36.820099</td>\n",
       "      <td>83.695000</td>\n",
       "      <td>211.630005</td>\n",
       "      <td>38.770000</td>\n",
       "      <td>80.320000</td>\n",
       "      <td>29.395000</td>\n",
       "      <td>74.754997</td>\n",
       "    </tr>\n",
       "    <tr>\n",
       "      <th>...</th>\n",
       "      <td>...</td>\n",
       "      <td>...</td>\n",
       "      <td>...</td>\n",
       "      <td>...</td>\n",
       "      <td>...</td>\n",
       "      <td>...</td>\n",
       "      <td>...</td>\n",
       "      <td>...</td>\n",
       "      <td>...</td>\n",
       "      <td>...</td>\n",
       "      <td>...</td>\n",
       "      <td>...</td>\n",
       "      <td>...</td>\n",
       "      <td>...</td>\n",
       "      <td>...</td>\n",
       "      <td>...</td>\n",
       "      <td>...</td>\n",
       "      <td>...</td>\n",
       "      <td>...</td>\n",
       "      <td>...</td>\n",
       "      <td>...</td>\n",
       "    </tr>\n",
       "    <tr>\n",
       "      <th>2646</th>\n",
       "      <td>39.180000</td>\n",
       "      <td>35.259998</td>\n",
       "      <td>99.970001</td>\n",
       "      <td>24.885000</td>\n",
       "      <td>159.960007</td>\n",
       "      <td>58.291000</td>\n",
       "      <td>115.870003</td>\n",
       "      <td>132.464996</td>\n",
       "      <td>36.080002</td>\n",
       "      <td>98.180000</td>\n",
       "      <td>...</td>\n",
       "      <td>78.029999</td>\n",
       "      <td>23.065001</td>\n",
       "      <td>66.860001</td>\n",
       "      <td>56.634998</td>\n",
       "      <td>78.331596</td>\n",
       "      <td>241.014999</td>\n",
       "      <td>39.825001</td>\n",
       "      <td>90.495003</td>\n",
       "      <td>31.440001</td>\n",
       "      <td>78.605003</td>\n",
       "    </tr>\n",
       "    <tr>\n",
       "      <th>2647</th>\n",
       "      <td>39.160000</td>\n",
       "      <td>35.285000</td>\n",
       "      <td>99.769997</td>\n",
       "      <td>24.946501</td>\n",
       "      <td>160.160004</td>\n",
       "      <td>58.153500</td>\n",
       "      <td>115.739998</td>\n",
       "      <td>132.300003</td>\n",
       "      <td>36.075001</td>\n",
       "      <td>98.059998</td>\n",
       "      <td>...</td>\n",
       "      <td>78.050003</td>\n",
       "      <td>23.115000</td>\n",
       "      <td>66.910004</td>\n",
       "      <td>56.494999</td>\n",
       "      <td>78.370003</td>\n",
       "      <td>240.660004</td>\n",
       "      <td>39.858002</td>\n",
       "      <td>90.360001</td>\n",
       "      <td>31.475000</td>\n",
       "      <td>78.739998</td>\n",
       "    </tr>\n",
       "    <tr>\n",
       "      <th>2648</th>\n",
       "      <td>39.020000</td>\n",
       "      <td>35.346500</td>\n",
       "      <td>99.599998</td>\n",
       "      <td>24.924999</td>\n",
       "      <td>160.360001</td>\n",
       "      <td>58.220001</td>\n",
       "      <td>115.169998</td>\n",
       "      <td>131.434998</td>\n",
       "      <td>35.959999</td>\n",
       "      <td>97.559998</td>\n",
       "      <td>...</td>\n",
       "      <td>78.029999</td>\n",
       "      <td>23.080000</td>\n",
       "      <td>66.910004</td>\n",
       "      <td>56.435001</td>\n",
       "      <td>78.519997</td>\n",
       "      <td>240.470001</td>\n",
       "      <td>39.755001</td>\n",
       "      <td>90.419998</td>\n",
       "      <td>31.485001</td>\n",
       "      <td>78.639999</td>\n",
       "    </tr>\n",
       "    <tr>\n",
       "      <th>2649</th>\n",
       "      <td>39.130001</td>\n",
       "      <td>35.369999</td>\n",
       "      <td>99.540001</td>\n",
       "      <td>24.860001</td>\n",
       "      <td>160.610001</td>\n",
       "      <td>58.270000</td>\n",
       "      <td>115.839996</td>\n",
       "      <td>131.419998</td>\n",
       "      <td>36.029999</td>\n",
       "      <td>97.410004</td>\n",
       "      <td>...</td>\n",
       "      <td>78.309998</td>\n",
       "      <td>23.080000</td>\n",
       "      <td>67.000000</td>\n",
       "      <td>56.240002</td>\n",
       "      <td>78.750000</td>\n",
       "      <td>239.899994</td>\n",
       "      <td>39.720001</td>\n",
       "      <td>90.430000</td>\n",
       "      <td>31.459999</td>\n",
       "      <td>78.610001</td>\n",
       "    </tr>\n",
       "    <tr>\n",
       "      <th>2650</th>\n",
       "      <td>40.709999</td>\n",
       "      <td>37.590000</td>\n",
       "      <td>104.370003</td>\n",
       "      <td>26.190001</td>\n",
       "      <td>165.860001</td>\n",
       "      <td>61.669998</td>\n",
       "      <td>123.550003</td>\n",
       "      <td>142.639999</td>\n",
       "      <td>38.070000</td>\n",
       "      <td>106.220001</td>\n",
       "      <td>...</td>\n",
       "      <td>80.459999</td>\n",
       "      <td>25.580000</td>\n",
       "      <td>68.970001</td>\n",
       "      <td>59.840000</td>\n",
       "      <td>80.269997</td>\n",
       "      <td>254.820007</td>\n",
       "      <td>42.410000</td>\n",
       "      <td>95.519997</td>\n",
       "      <td>32.709999</td>\n",
       "      <td>83.129997</td>\n",
       "    </tr>\n",
       "  </tbody>\n",
       "</table>\n",
       "<p>2651 rows × 21 columns</p>\n",
       "</div>"
      ],
      "text/plain": [
       "            APA        BKR         CVX        COP        CTRA        DVN  \\\n",
       "0     33.060001  26.900000   88.699997  21.580000  130.955002  50.974998   \n",
       "1     32.830002  26.770000   88.269997  21.540001  130.380005  50.688599   \n",
       "2     32.820000  26.775000   88.129997  21.459999  130.490005  50.435001   \n",
       "3     32.709999  26.719999   87.919998  21.330000  129.847794  50.220001   \n",
       "4     32.669998  26.700001   87.665001  21.158400  129.789993  50.146198   \n",
       "...         ...        ...         ...        ...         ...        ...   \n",
       "2646  39.180000  35.259998   99.970001  24.885000  159.960007  58.291000   \n",
       "2647  39.160000  35.285000   99.769997  24.946501  160.160004  58.153500   \n",
       "2648  39.020000  35.346500   99.599998  24.924999  160.360001  58.220001   \n",
       "2649  39.130001  35.369999   99.540001  24.860001  160.610001  58.270000   \n",
       "2650  40.709999  37.590000  104.370003  26.190001  165.860001  61.669998   \n",
       "\n",
       "            FANG         EOG        XOM         HAL  ...        KMI  \\\n",
       "0     110.014999  127.635002  30.959999   90.500000  ...  71.220001   \n",
       "1     109.575500  127.760002  30.799999   90.129997  ...  71.150002   \n",
       "2     109.320000  127.539001  30.879999   89.849998  ...  71.080002   \n",
       "3     109.014999  126.989998  30.700001   89.419998  ...  70.824997   \n",
       "4     108.620003  126.315002  30.590000   89.330002  ...  70.660004   \n",
       "...          ...         ...        ...         ...  ...        ...   \n",
       "2646  115.870003  132.464996  36.080002   98.180000  ...  78.029999   \n",
       "2647  115.739998  132.300003  36.075001   98.059998  ...  78.050003   \n",
       "2648  115.169998  131.434998  35.959999   97.559998  ...  78.029999   \n",
       "2649  115.839996  131.419998  36.029999   97.410004  ...  78.309998   \n",
       "2650  123.550003  142.639999  38.070000  106.220001  ...  80.459999   \n",
       "\n",
       "            MRO        MPC        OXY        OKE         PSX        PXD  \\\n",
       "0     19.660000  58.929100  37.410000  84.184998  213.552704  39.380001   \n",
       "1     19.519501  58.860001  37.139999  84.110001  213.330002  39.080002   \n",
       "2     19.450100  58.861301  37.110600  84.180000  212.360001  39.049999   \n",
       "3     19.360001  59.000000  36.970001  83.929901  212.589996  38.939999   \n",
       "4     19.325001  58.770100  36.820099  83.695000  211.630005  38.770000   \n",
       "...         ...        ...        ...        ...         ...        ...   \n",
       "2646  23.065001  66.860001  56.634998  78.331596  241.014999  39.825001   \n",
       "2647  23.115000  66.910004  56.494999  78.370003  240.660004  39.858002   \n",
       "2648  23.080000  66.910004  56.435001  78.519997  240.470001  39.755001   \n",
       "2649  23.080000  67.000000  56.240002  78.750000  239.899994  39.720001   \n",
       "2650  25.580000  68.970001  59.840000  80.269997  254.820007  42.410000   \n",
       "\n",
       "            SLB        VLO        WMB  \n",
       "0     81.239998  29.510000  74.830002  \n",
       "1     80.989998  29.500000  74.669998  \n",
       "2     81.040001  29.530001  75.129997  \n",
       "3     80.580002  29.510000  74.839996  \n",
       "4     80.320000  29.395000  74.754997  \n",
       "...         ...        ...        ...  \n",
       "2646  90.495003  31.440001  78.605003  \n",
       "2647  90.360001  31.475000  78.739998  \n",
       "2648  90.419998  31.485001  78.639999  \n",
       "2649  90.430000  31.459999  78.610001  \n",
       "2650  95.519997  32.709999  83.129997  \n",
       "\n",
       "[2651 rows x 21 columns]"
      ]
     },
     "execution_count": 16,
     "metadata": {},
     "output_type": "execute_result"
    }
   ],
   "source": [
    "data"
   ]
  },
  {
   "cell_type": "markdown",
   "id": "7d53e917",
   "metadata": {},
   "source": [
    "### Checking for relevant pairs"
   ]
  },
  {
   "cell_type": "code",
   "execution_count": 17,
   "id": "e0beec04",
   "metadata": {},
   "outputs": [],
   "source": [
    "pairs = []\n",
    "for i in range(n):\n",
    "    for j in range(i+1, n):\n",
    "        \n",
    "        S1 = data[stock[i]]\n",
    "        S2 = data[stock[j]]\n",
    "        result = coint(S1, S2)\n",
    "        score = result[0]\n",
    "        pvalue = result[1]\n",
    "        score_matrix[i, j] = score\n",
    "        pvalue_matrix[i, j] = pvalue\n",
    "        if pvalue < 0.05:\n",
    "            pairs.append((stock[i], stock[j]))"
   ]
  },
  {
   "cell_type": "code",
   "execution_count": 18,
   "id": "5cffb88b",
   "metadata": {},
   "outputs": [],
   "source": [
    "# plt.figure(figsize=(10,8))\n",
    "# sns.heatmap(score_matrix)"
   ]
  },
  {
   "cell_type": "code",
   "execution_count": 19,
   "id": "9c28bd65",
   "metadata": {},
   "outputs": [
    {
     "data": {
      "text/html": [
       "<div>\n",
       "<style scoped>\n",
       "    .dataframe tbody tr th:only-of-type {\n",
       "        vertical-align: middle;\n",
       "    }\n",
       "\n",
       "    .dataframe tbody tr th {\n",
       "        vertical-align: top;\n",
       "    }\n",
       "\n",
       "    .dataframe thead th {\n",
       "        text-align: right;\n",
       "    }\n",
       "</style>\n",
       "<table border=\"1\" class=\"dataframe\">\n",
       "  <thead>\n",
       "    <tr style=\"text-align: right;\">\n",
       "      <th></th>\n",
       "      <th>0</th>\n",
       "      <th>1</th>\n",
       "    </tr>\n",
       "  </thead>\n",
       "  <tbody>\n",
       "    <tr>\n",
       "      <th>0</th>\n",
       "      <td>APA</td>\n",
       "      <td>CVX</td>\n",
       "    </tr>\n",
       "    <tr>\n",
       "      <th>1</th>\n",
       "      <td>APA</td>\n",
       "      <td>FANG</td>\n",
       "    </tr>\n",
       "    <tr>\n",
       "      <th>2</th>\n",
       "      <td>BKR</td>\n",
       "      <td>XOM</td>\n",
       "    </tr>\n",
       "    <tr>\n",
       "      <th>3</th>\n",
       "      <td>CVX</td>\n",
       "      <td>FANG</td>\n",
       "    </tr>\n",
       "    <tr>\n",
       "      <th>4</th>\n",
       "      <td>CVX</td>\n",
       "      <td>MPC</td>\n",
       "    </tr>\n",
       "    <tr>\n",
       "      <th>5</th>\n",
       "      <td>COP</td>\n",
       "      <td>FANG</td>\n",
       "    </tr>\n",
       "    <tr>\n",
       "      <th>6</th>\n",
       "      <td>COP</td>\n",
       "      <td>MRO</td>\n",
       "    </tr>\n",
       "    <tr>\n",
       "      <th>7</th>\n",
       "      <td>COP</td>\n",
       "      <td>MPC</td>\n",
       "    </tr>\n",
       "    <tr>\n",
       "      <th>8</th>\n",
       "      <td>COP</td>\n",
       "      <td>VLO</td>\n",
       "    </tr>\n",
       "    <tr>\n",
       "      <th>9</th>\n",
       "      <td>CTRA</td>\n",
       "      <td>OXY</td>\n",
       "    </tr>\n",
       "    <tr>\n",
       "      <th>10</th>\n",
       "      <td>FANG</td>\n",
       "      <td>XOM</td>\n",
       "    </tr>\n",
       "    <tr>\n",
       "      <th>11</th>\n",
       "      <td>FANG</td>\n",
       "      <td>HES</td>\n",
       "    </tr>\n",
       "    <tr>\n",
       "      <th>12</th>\n",
       "      <td>FANG</td>\n",
       "      <td>MRO</td>\n",
       "    </tr>\n",
       "    <tr>\n",
       "      <th>13</th>\n",
       "      <td>FANG</td>\n",
       "      <td>MPC</td>\n",
       "    </tr>\n",
       "    <tr>\n",
       "      <th>14</th>\n",
       "      <td>FANG</td>\n",
       "      <td>OXY</td>\n",
       "    </tr>\n",
       "    <tr>\n",
       "      <th>15</th>\n",
       "      <td>FANG</td>\n",
       "      <td>OKE</td>\n",
       "    </tr>\n",
       "    <tr>\n",
       "      <th>16</th>\n",
       "      <td>FANG</td>\n",
       "      <td>VLO</td>\n",
       "    </tr>\n",
       "    <tr>\n",
       "      <th>17</th>\n",
       "      <td>EOG</td>\n",
       "      <td>XOM</td>\n",
       "    </tr>\n",
       "    <tr>\n",
       "      <th>18</th>\n",
       "      <td>EOG</td>\n",
       "      <td>HAL</td>\n",
       "    </tr>\n",
       "    <tr>\n",
       "      <th>19</th>\n",
       "      <td>EOG</td>\n",
       "      <td>HES</td>\n",
       "    </tr>\n",
       "    <tr>\n",
       "      <th>20</th>\n",
       "      <td>EOG</td>\n",
       "      <td>MRO</td>\n",
       "    </tr>\n",
       "    <tr>\n",
       "      <th>21</th>\n",
       "      <td>EOG</td>\n",
       "      <td>MPC</td>\n",
       "    </tr>\n",
       "    <tr>\n",
       "      <th>22</th>\n",
       "      <td>EOG</td>\n",
       "      <td>OXY</td>\n",
       "    </tr>\n",
       "    <tr>\n",
       "      <th>23</th>\n",
       "      <td>EOG</td>\n",
       "      <td>PSX</td>\n",
       "    </tr>\n",
       "    <tr>\n",
       "      <th>24</th>\n",
       "      <td>EOG</td>\n",
       "      <td>SLB</td>\n",
       "    </tr>\n",
       "    <tr>\n",
       "      <th>25</th>\n",
       "      <td>EOG</td>\n",
       "      <td>VLO</td>\n",
       "    </tr>\n",
       "    <tr>\n",
       "      <th>26</th>\n",
       "      <td>HAL</td>\n",
       "      <td>PSX</td>\n",
       "    </tr>\n",
       "  </tbody>\n",
       "</table>\n",
       "</div>"
      ],
      "text/plain": [
       "       0     1\n",
       "0    APA   CVX\n",
       "1    APA  FANG\n",
       "2    BKR   XOM\n",
       "3    CVX  FANG\n",
       "4    CVX   MPC\n",
       "5    COP  FANG\n",
       "6    COP   MRO\n",
       "7    COP   MPC\n",
       "8    COP   VLO\n",
       "9   CTRA   OXY\n",
       "10  FANG   XOM\n",
       "11  FANG   HES\n",
       "12  FANG   MRO\n",
       "13  FANG   MPC\n",
       "14  FANG   OXY\n",
       "15  FANG   OKE\n",
       "16  FANG   VLO\n",
       "17   EOG   XOM\n",
       "18   EOG   HAL\n",
       "19   EOG   HES\n",
       "20   EOG   MRO\n",
       "21   EOG   MPC\n",
       "22   EOG   OXY\n",
       "23   EOG   PSX\n",
       "24   EOG   SLB\n",
       "25   EOG   VLO\n",
       "26   HAL   PSX"
      ]
     },
     "execution_count": 19,
     "metadata": {},
     "output_type": "execute_result"
    }
   ],
   "source": [
    "pd.DataFrame(pairs)"
   ]
  },
  {
   "cell_type": "code",
   "execution_count": 20,
   "id": "08ceaa40",
   "metadata": {},
   "outputs": [],
   "source": [
    "## a denotes score\n",
    "## b is p values\n",
    "## c is confidence interval\n",
    "a,b,c=coint(data[pairs[4][0]], data[pairs[4][1]])"
   ]
  },
  {
   "cell_type": "code",
   "execution_count": 21,
   "id": "de1b7e5a",
   "metadata": {},
   "outputs": [
    {
     "data": {
      "text/plain": [
       "0.023149744427828495"
      ]
     },
     "execution_count": 21,
     "metadata": {},
     "output_type": "execute_result"
    }
   ],
   "source": [
    "b"
   ]
  },
  {
   "cell_type": "code",
   "execution_count": 22,
   "id": "0aba561a",
   "metadata": {},
   "outputs": [],
   "source": [
    "##KOTAK AND HDFC SAMPLE CODE\n",
    "model=sm.ols(formula= \"{} ~ {}\".format(pairs[4][1],pairs[4][0]), data=data).fit()\n",
    "\n",
    "model.summary()\n",
    "\n",
    "model.params\n",
    "\n",
    "TS=data[pairs[4][1]]-model.params[pairs[4][0]]*data[pairs[4][0]]"
   ]
  },
  {
   "cell_type": "code",
   "execution_count": 23,
   "id": "138dc0dd",
   "metadata": {},
   "outputs": [],
   "source": [
    "# model=sm.ols(formula= \"{} ~ {}\".format(pairs[2][0],pairs[2][1]), data=data).fit()\n",
    "\n",
    "# model.summary()\n",
    "\n",
    "# model.params\n",
    "\n",
    "# TS=data[pairs[2][0]]-model.params[pairs[2][1]]*data[pairs[2][1]]"
   ]
  },
  {
   "cell_type": "markdown",
   "id": "1a0060af",
   "metadata": {},
   "source": [
    "### Stationarity test for Generated Time Series"
   ]
  },
  {
   "cell_type": "code",
   "execution_count": 24,
   "id": "ff2559d8",
   "metadata": {},
   "outputs": [
    {
     "name": "stdout",
     "output_type": "stream",
     "text": [
      "ADF Statistic: -3.903337\n",
      "p-value: 0.002010\n",
      "Critical Values:\n",
      "\t1%: -3.433\n",
      "\t5%: -2.863\n",
      "\t10%: -2.567\n"
     ]
    }
   ],
   "source": [
    "X = TS.values\n",
    "result = adfuller(X)\n",
    "print('ADF Statistic: %f' % result[0])\n",
    "print('p-value: %f' % result[1])\n",
    "print('Critical Values:')\n",
    "for key, value in result[4].items():\n",
    "\tprint('\\t%s: %.3f' % (key, value))"
   ]
  },
  {
   "cell_type": "code",
   "execution_count": 25,
   "id": "c721b2a2",
   "metadata": {},
   "outputs": [
    {
     "data": {
      "text/plain": [
       "0     9.855886\n",
       "1    10.024684\n",
       "2    10.103439\n",
       "3    10.358320\n",
       "4    10.269496\n",
       "dtype: float64"
      ]
     },
     "execution_count": 25,
     "metadata": {},
     "output_type": "execute_result"
    }
   ],
   "source": [
    "TS[:5]"
   ]
  },
  {
   "cell_type": "code",
   "execution_count": 26,
   "id": "23d16e91",
   "metadata": {},
   "outputs": [],
   "source": [
    "TS_test=TS[2000:].reset_index(drop=True)\n",
    "TS=TS[:2000]"
   ]
  },
  {
   "cell_type": "code",
   "execution_count": 27,
   "id": "d754006f",
   "metadata": {},
   "outputs": [],
   "source": [
    "meanp=TS.mean()\n",
    "sdp=TS.std()"
   ]
  },
  {
   "cell_type": "markdown",
   "id": "38232b26",
   "metadata": {},
   "source": [
    "### Computing hit rate for a given Standard Deviation"
   ]
  },
  {
   "cell_type": "code",
   "execution_count": 28,
   "id": "0145f6a4",
   "metadata": {},
   "outputs": [],
   "source": [
    "dict_hits={}"
   ]
  },
  {
   "cell_type": "code",
   "execution_count": 29,
   "id": "1e8764c8",
   "metadata": {},
   "outputs": [],
   "source": [
    "for n in np.linspace(1,2,21):\n",
    "    count=0\n",
    "    for i in range(len(TS)-1):\n",
    "        if (TS[i]<meanp-n*sdp) and (TS[i+1]>meanp-n*sdp):\n",
    "            count+=1\n",
    "        if (TS[i]>meanp-n*sdp) and (TS[i+1]<meanp-n*sdp):\n",
    "            count+=1\n",
    "        if (TS[i]<meanp+n*sdp) and (TS[i+1]>meanp+n*sdp):\n",
    "            count+=1\n",
    "        if (TS[i]>meanp+n*sdp) and (TS[i+1]<meanp+n*sdp):\n",
    "            count+=1\n",
    "        dict_hits[round(n,2)]=count\n",
    "        \n",
    "        "
   ]
  },
  {
   "cell_type": "code",
   "execution_count": 30,
   "id": "45a517d0",
   "metadata": {},
   "outputs": [
    {
     "data": {
      "text/html": [
       "<div>\n",
       "<style scoped>\n",
       "    .dataframe tbody tr th:only-of-type {\n",
       "        vertical-align: middle;\n",
       "    }\n",
       "\n",
       "    .dataframe tbody tr th {\n",
       "        vertical-align: top;\n",
       "    }\n",
       "\n",
       "    .dataframe thead th {\n",
       "        text-align: right;\n",
       "    }\n",
       "</style>\n",
       "<table border=\"1\" class=\"dataframe\">\n",
       "  <thead>\n",
       "    <tr style=\"text-align: right;\">\n",
       "      <th></th>\n",
       "      <th>Hits</th>\n",
       "    </tr>\n",
       "  </thead>\n",
       "  <tbody>\n",
       "    <tr>\n",
       "      <th>1.00</th>\n",
       "      <td>83</td>\n",
       "    </tr>\n",
       "    <tr>\n",
       "      <th>1.05</th>\n",
       "      <td>77</td>\n",
       "    </tr>\n",
       "    <tr>\n",
       "      <th>1.10</th>\n",
       "      <td>75</td>\n",
       "    </tr>\n",
       "    <tr>\n",
       "      <th>1.15</th>\n",
       "      <td>67</td>\n",
       "    </tr>\n",
       "    <tr>\n",
       "      <th>1.20</th>\n",
       "      <td>61</td>\n",
       "    </tr>\n",
       "  </tbody>\n",
       "</table>\n",
       "</div>"
      ],
      "text/plain": [
       "      Hits\n",
       "1.00    83\n",
       "1.05    77\n",
       "1.10    75\n",
       "1.15    67\n",
       "1.20    61"
      ]
     },
     "execution_count": 30,
     "metadata": {},
     "output_type": "execute_result"
    }
   ],
   "source": [
    "optim_hits=pd.DataFrame(dict_hits.values(),index=dict_hits.keys(), columns=[\"Hits\"])\n",
    "optim_hits.head()"
   ]
  },
  {
   "cell_type": "code",
   "execution_count": 31,
   "id": "fb724239",
   "metadata": {},
   "outputs": [
    {
     "data": {
      "text/html": [
       "<div>\n",
       "<style scoped>\n",
       "    .dataframe tbody tr th:only-of-type {\n",
       "        vertical-align: middle;\n",
       "    }\n",
       "\n",
       "    .dataframe tbody tr th {\n",
       "        vertical-align: top;\n",
       "    }\n",
       "\n",
       "    .dataframe thead th {\n",
       "        text-align: right;\n",
       "    }\n",
       "</style>\n",
       "<table border=\"1\" class=\"dataframe\">\n",
       "  <thead>\n",
       "    <tr style=\"text-align: right;\">\n",
       "      <th></th>\n",
       "      <th>Hits</th>\n",
       "    </tr>\n",
       "  </thead>\n",
       "  <tbody>\n",
       "    <tr>\n",
       "      <th>1.00</th>\n",
       "      <td>83</td>\n",
       "    </tr>\n",
       "    <tr>\n",
       "      <th>1.05</th>\n",
       "      <td>77</td>\n",
       "    </tr>\n",
       "    <tr>\n",
       "      <th>1.10</th>\n",
       "      <td>75</td>\n",
       "    </tr>\n",
       "    <tr>\n",
       "      <th>1.35</th>\n",
       "      <td>71</td>\n",
       "    </tr>\n",
       "    <tr>\n",
       "      <th>1.30</th>\n",
       "      <td>69</td>\n",
       "    </tr>\n",
       "    <tr>\n",
       "      <th>1.15</th>\n",
       "      <td>67</td>\n",
       "    </tr>\n",
       "    <tr>\n",
       "      <th>1.20</th>\n",
       "      <td>61</td>\n",
       "    </tr>\n",
       "    <tr>\n",
       "      <th>1.25</th>\n",
       "      <td>61</td>\n",
       "    </tr>\n",
       "    <tr>\n",
       "      <th>1.40</th>\n",
       "      <td>59</td>\n",
       "    </tr>\n",
       "    <tr>\n",
       "      <th>1.45</th>\n",
       "      <td>53</td>\n",
       "    </tr>\n",
       "    <tr>\n",
       "      <th>1.60</th>\n",
       "      <td>51</td>\n",
       "    </tr>\n",
       "    <tr>\n",
       "      <th>1.50</th>\n",
       "      <td>51</td>\n",
       "    </tr>\n",
       "    <tr>\n",
       "      <th>1.55</th>\n",
       "      <td>51</td>\n",
       "    </tr>\n",
       "    <tr>\n",
       "      <th>1.65</th>\n",
       "      <td>41</td>\n",
       "    </tr>\n",
       "    <tr>\n",
       "      <th>1.75</th>\n",
       "      <td>39</td>\n",
       "    </tr>\n",
       "    <tr>\n",
       "      <th>1.80</th>\n",
       "      <td>31</td>\n",
       "    </tr>\n",
       "    <tr>\n",
       "      <th>1.85</th>\n",
       "      <td>31</td>\n",
       "    </tr>\n",
       "    <tr>\n",
       "      <th>1.70</th>\n",
       "      <td>29</td>\n",
       "    </tr>\n",
       "    <tr>\n",
       "      <th>1.90</th>\n",
       "      <td>25</td>\n",
       "    </tr>\n",
       "    <tr>\n",
       "      <th>2.00</th>\n",
       "      <td>19</td>\n",
       "    </tr>\n",
       "    <tr>\n",
       "      <th>1.95</th>\n",
       "      <td>17</td>\n",
       "    </tr>\n",
       "  </tbody>\n",
       "</table>\n",
       "</div>"
      ],
      "text/plain": [
       "      Hits\n",
       "1.00    83\n",
       "1.05    77\n",
       "1.10    75\n",
       "1.35    71\n",
       "1.30    69\n",
       "1.15    67\n",
       "1.20    61\n",
       "1.25    61\n",
       "1.40    59\n",
       "1.45    53\n",
       "1.60    51\n",
       "1.50    51\n",
       "1.55    51\n",
       "1.65    41\n",
       "1.75    39\n",
       "1.80    31\n",
       "1.85    31\n",
       "1.70    29\n",
       "1.90    25\n",
       "2.00    19\n",
       "1.95    17"
      ]
     },
     "execution_count": 31,
     "metadata": {},
     "output_type": "execute_result"
    }
   ],
   "source": [
    "optim_hits.sort_values([\"Hits\"], ascending=False)"
   ]
  },
  {
   "cell_type": "code",
   "execution_count": 32,
   "id": "76ef82cd",
   "metadata": {},
   "outputs": [],
   "source": [
    "optim_hits[\"Hits_filter\"]=np.where(optim_hits.Hits>optim_hits.Hits.mean()+optim_hits.Hits.std(),1,0)"
   ]
  },
  {
   "cell_type": "markdown",
   "id": "c4c7e1c6",
   "metadata": {},
   "source": [
    "### Highest hit rate selection for a particular standard deviation"
   ]
  },
  {
   "cell_type": "code",
   "execution_count": 33,
   "id": "9d973fd3",
   "metadata": {},
   "outputs": [
    {
     "data": {
      "text/plain": [
       "array([1.  , 1.05, 1.1 , 1.35])"
      ]
     },
     "execution_count": 33,
     "metadata": {},
     "output_type": "execute_result"
    }
   ],
   "source": [
    "type_dev=optim_hits[optim_hits[\"Hits_filter\"]==1].index.values\n",
    "type_dev"
   ]
  },
  {
   "cell_type": "markdown",
   "id": "8898284c",
   "metadata": {},
   "source": [
    "### Computing performance metrics for the given set of Standard Deviation"
   ]
  },
  {
   "cell_type": "code",
   "execution_count": 34,
   "id": "87f9439f",
   "metadata": {},
   "outputs": [],
   "source": [
    "metrics_dict=[]\n",
    "for n_dev in type_dev:\n",
    "\n",
    "\n",
    "    sl=(meanp-(meanp-n_dev*sdp))/((meanp-n_dev*sdp)*2)\n",
    "\n",
    "    posv=[]\n",
    "    arrb=[]\n",
    "    arrs=[]\n",
    "\n",
    "    pos=0\n",
    "    for i in range(len(TS)):\n",
    "        if (TS[i]<=meanp-sdp*n_dev) & (TS[i]>=(meanp-sdp*n_dev)*(1-sl/3)):\n",
    "            if pos==0:\n",
    "                pos=1\n",
    "                posv.append(pos)\n",
    "                arrb.append(TS[i])\n",
    "\n",
    "        if (TS[i]>=meanp+sdp*n_dev) & (TS[i]<=(meanp+sdp*n_dev)*(1+sl/3)):\n",
    "            if pos==0:\n",
    "                pos=-1\n",
    "                posv.append(pos)\n",
    "                arrb.append(TS[i])\n",
    "\n",
    "        if TS[i]>=meanp:\n",
    "            if pos==1:\n",
    "                pos=0\n",
    "                arrs.append(TS[i])\n",
    "        if TS[i]<=meanp:\n",
    "            if pos==-1:\n",
    "                pos=0\n",
    "                arrs.append(TS[i])\n",
    "\n",
    "        if TS[i]<=(meanp-sdp*n_dev)*(1-sl):\n",
    "            if pos==1:\n",
    "                pos=0\n",
    "                arrs.append(TS[i])\n",
    "\n",
    "        if TS[i]>=(meanp+sdp*n_dev)*(1+sl):\n",
    "            if pos==-1:\n",
    "                pos=0\n",
    "                arrs.append(TS[i])\n",
    "\n",
    "    return_arr=[]\n",
    "\n",
    "    for i in range(len(arrs)):\n",
    "        if posv[i]==1:\n",
    "            return_arr.append((arrs[i]-arrb[i])/arrb[i])\n",
    "        if posv[i]==-1:\n",
    "            return_arr.append((arrb[i]-arrs[i])/arrb[i])\n",
    "    return_arr=np.array(return_arr)\n",
    "    sharpe_ratio=return_arr.mean()/return_arr.std()\n",
    "    ov_ret=(1+return_arr).cumprod()[-1]\n",
    "    metrics_dict.append([n_dev,sharpe_ratio,ov_ret])"
   ]
  },
  {
   "cell_type": "code",
   "execution_count": 35,
   "id": "9ad40846",
   "metadata": {},
   "outputs": [
    {
     "data": {
      "text/html": [
       "<div>\n",
       "<style scoped>\n",
       "    .dataframe tbody tr th:only-of-type {\n",
       "        vertical-align: middle;\n",
       "    }\n",
       "\n",
       "    .dataframe tbody tr th {\n",
       "        vertical-align: top;\n",
       "    }\n",
       "\n",
       "    .dataframe thead th {\n",
       "        text-align: right;\n",
       "    }\n",
       "</style>\n",
       "<table border=\"1\" class=\"dataframe\">\n",
       "  <thead>\n",
       "    <tr style=\"text-align: right;\">\n",
       "      <th></th>\n",
       "      <th>Dev</th>\n",
       "      <th>Sharpe</th>\n",
       "      <th>Overall_Ret</th>\n",
       "    </tr>\n",
       "  </thead>\n",
       "  <tbody>\n",
       "    <tr>\n",
       "      <th>0</th>\n",
       "      <td>1.00</td>\n",
       "      <td>0.602034</td>\n",
       "      <td>1.819165</td>\n",
       "    </tr>\n",
       "    <tr>\n",
       "      <th>1</th>\n",
       "      <td>1.05</td>\n",
       "      <td>0.506660</td>\n",
       "      <td>1.788672</td>\n",
       "    </tr>\n",
       "    <tr>\n",
       "      <th>2</th>\n",
       "      <td>1.10</td>\n",
       "      <td>0.519526</td>\n",
       "      <td>1.723208</td>\n",
       "    </tr>\n",
       "    <tr>\n",
       "      <th>3</th>\n",
       "      <td>1.35</td>\n",
       "      <td>0.703946</td>\n",
       "      <td>1.753970</td>\n",
       "    </tr>\n",
       "  </tbody>\n",
       "</table>\n",
       "</div>"
      ],
      "text/plain": [
       "    Dev    Sharpe  Overall_Ret\n",
       "0  1.00  0.602034     1.819165\n",
       "1  1.05  0.506660     1.788672\n",
       "2  1.10  0.519526     1.723208\n",
       "3  1.35  0.703946     1.753970"
      ]
     },
     "execution_count": 35,
     "metadata": {},
     "output_type": "execute_result"
    }
   ],
   "source": [
    "pd.DataFrame(metrics_dict, columns=[\"Dev\", \"Sharpe\", \"Overall_Ret\"])"
   ]
  },
  {
   "cell_type": "markdown",
   "id": "7d4402aa",
   "metadata": {},
   "source": [
    "### Selecting the appropriate standard deviation"
   ]
  },
  {
   "cell_type": "code",
   "execution_count": 36,
   "id": "3edf37fd",
   "metadata": {},
   "outputs": [],
   "source": [
    "n_dev=1.35"
   ]
  },
  {
   "cell_type": "code",
   "execution_count": 37,
   "id": "d059f40e",
   "metadata": {},
   "outputs": [],
   "source": [
    "sl=(meanp-(meanp-n_dev*sdp))/((meanp-n_dev*sdp)*2)"
   ]
  },
  {
   "cell_type": "code",
   "execution_count": 38,
   "id": "a2c3031f",
   "metadata": {},
   "outputs": [
    {
     "data": {
      "text/plain": [
       "<matplotlib.lines.Line2D at 0x24676686f70>"
      ]
     },
     "execution_count": 38,
     "metadata": {},
     "output_type": "execute_result"
    },
    {
     "data": {
      "image/png": "[encoded data removed]",
      "text/plain": [
       "<Figure size 432x288 with 1 Axes>"
      ]
     },
     "metadata": {},
     "output_type": "display_data"
    }
   ],
   "source": [
    "plt.plot(TS)\n",
    "plt.axhline(TS.mean(), color='black')\n",
    "plt.axhline(TS.mean()+n_dev*TS.std(), color='red')\n",
    "plt.axhline(TS.mean()-n_dev*TS.std(), color='red')\n",
    "plt.axhline((TS.mean()+n_dev*TS.std())*(1+sl/3), color='pink')\n",
    "plt.axhline((TS.mean()-n_dev*TS.std())*(1-sl/3), color='pink')\n",
    "plt.axhline((TS.mean()+n_dev*TS.std())*(1+sl), color='black')\n",
    "plt.axhline((TS.mean()-n_dev*TS.std())*(1-sl), color='black')"
   ]
  },
  {
   "cell_type": "markdown",
   "id": "32050cd4",
   "metadata": {},
   "source": [
    "### In sample Testing and Trade Log"
   ]
  },
  {
   "cell_type": "code",
   "execution_count": 39,
   "id": "f6362764",
   "metadata": {},
   "outputs": [],
   "source": [
    "posv=[]\n",
    "arrb=[]\n",
    "arrs=[]\n",
    "\n",
    "pos=0\n",
    "for i in range(len(TS)):\n",
    "    if (TS[i]<=meanp-sdp*n_dev) & (TS[i]>=(meanp-sdp*n_dev)*(1-sl/3)):\n",
    "        if pos==0:\n",
    "            pos=1\n",
    "            posv.append(pos)\n",
    "            arrb.append(TS[i])\n",
    "\n",
    "    if (TS[i]>=meanp+sdp*n_dev) & (TS[i]<=(meanp+sdp*n_dev)*(1+sl/3)):\n",
    "        if pos==0:\n",
    "            pos=-1\n",
    "            posv.append(pos)\n",
    "            arrb.append(TS[i])\n",
    "\n",
    "    if TS[i]>=meanp:\n",
    "        if pos==1:\n",
    "            pos=0\n",
    "            arrs.append(TS[i])\n",
    "    if TS[i]<=meanp:\n",
    "        if pos==-1:\n",
    "            pos=0\n",
    "            arrs.append(TS[i])\n",
    "            \n",
    "    if TS[i]<=(meanp-sdp*n_dev)*(1-sl):\n",
    "        if pos==1:\n",
    "            pos=0\n",
    "            arrs.append(TS[i])\n",
    "    \n",
    "    if TS[i]>=(meanp+sdp*n_dev)*(1+sl):\n",
    "        if pos==-1:\n",
    "            pos=0\n",
    "            arrs.append(TS[i])"
   ]
  },
  {
   "cell_type": "code",
   "execution_count": 40,
   "id": "081d2c0d",
   "metadata": {},
   "outputs": [],
   "source": [
    "return_arr=[]\n",
    "\n",
    "for i in range(len(arrs)):\n",
    "    if posv[i]==1:\n",
    "        return_arr.append((arrs[i]-arrb[i])/arrb[i])\n",
    "    if posv[i]==-1:\n",
    "        return_arr.append((arrb[i]-arrs[i])/arrb[i])\n",
    "        "
   ]
  },
  {
   "cell_type": "code",
   "execution_count": 41,
   "id": "9622e89c",
   "metadata": {},
   "outputs": [
    {
     "data": {
      "text/plain": [
       "array([1.12957403, 1.25636068, 1.42381979, 1.54771529, 1.47682263,\n",
       "       1.65590443, 1.57194483, 1.49379133, 1.66935643, 1.59671618,\n",
       "       1.75396966])"
      ]
     },
     "execution_count": 41,
     "metadata": {},
     "output_type": "execute_result"
    }
   ],
   "source": [
    "(1+np.array(return_arr)).cumprod()"
   ]
  },
  {
   "cell_type": "code",
   "execution_count": 42,
   "id": "c42372a4",
   "metadata": {},
   "outputs": [
    {
     "name": "stdout",
     "output_type": "stream",
     "text": [
      "    pos   buy/sell      close  profit/loss\n",
      "0     1  10.997667  12.422679     0.129574\n",
      "1     1  11.117658  12.365536     0.112243\n",
      "2     1  11.056304  12.529988     0.133289\n",
      "3    -1  13.383798  12.219190     0.087016\n",
      "4    -1  13.430424  14.045600    -0.045805\n",
      "5    -1  13.505651  11.867935     0.121262\n",
      "6     1  11.124603  10.560550    -0.050703\n",
      "7     1  11.086178  10.534998    -0.049718\n",
      "8     1  10.958447  12.246391     0.117530\n",
      "9    -1  13.446682  14.031799    -0.043514\n",
      "10   -1  13.532081  12.199366     0.098486\n"
     ]
    }
   ],
   "source": [
    "if len(arrb)==len(arrs):\n",
    "    print(pd.DataFrame(data={\"pos\":posv, \"buy/sell\":arrb, \"close\":arrs, \"profit/loss\":return_arr}))\n",
    "else:\n",
    "    print(pd.DataFrame(data={\"pos\":posv[:-1], \"buy/sell\":arrb[:-1], \"close\":arrs, \"profit/loss\":return_arr} ))\n",
    "        \n",
    "    "
   ]
  },
  {
   "cell_type": "code",
   "execution_count": 43,
   "id": "9aa57f2d",
   "metadata": {},
   "outputs": [],
   "source": [
    "# pd.DataFrame(data={\"pos\":posv, \"buy/sell\":arrb, \"close\":arrs, \"profit/loss\":return_arr} )"
   ]
  },
  {
   "cell_type": "markdown",
   "id": "631199fa",
   "metadata": {},
   "source": [
    "### O/S Testing and Trade Log"
   ]
  },
  {
   "cell_type": "code",
   "execution_count": 44,
   "id": "a126dffa",
   "metadata": {},
   "outputs": [
    {
     "data": {
      "image/png": "[encoded data removed]",
      "text/plain": [
       "<Figure size 576x432 with 1 Axes>"
      ]
     },
     "metadata": {},
     "output_type": "display_data"
    }
   ],
   "source": [
    "plt.figure(figsize=(8,6))\n",
    "plt.plot(TS_test)\n",
    "plt.axhline(TS.mean(), color='black')\n",
    "plt.axhline(TS.mean()+n_dev*TS.std(), color='red')\n",
    "plt.axhline(TS.mean()-n_dev*TS.std(), color='red')\n",
    "plt.axhline((TS.mean()+n_dev*TS.std())*(1+sl/3), color='pink')\n",
    "plt.axhline((TS.mean()-n_dev*TS.std())*(1-sl/3), color='pink')\n",
    "plt.axhline((TS.mean()+n_dev*TS.std())*(1+sl), color='black')\n",
    "plt.axhline((TS.mean()-n_dev*TS.std())*(1-sl), color='black')\n",
    "plt.xticks(np.arange(min(range(len(TS_test))), max(range(len(TS_test)))+1, 50))\n",
    "plt.show()"
   ]
  },
  {
   "cell_type": "code",
   "execution_count": 45,
   "id": "283a0ac6",
   "metadata": {},
   "outputs": [],
   "source": [
    "posvt=[]\n",
    "arrbt=[]\n",
    "arrst=[]\n",
    "\n",
    "pos=0"
   ]
  },
  {
   "cell_type": "code",
   "execution_count": 46,
   "id": "27247879",
   "metadata": {},
   "outputs": [],
   "source": [
    "for i in range(len(TS_test)):\n",
    "    if (TS_test[i]<=meanp-sdp*n_dev) & (TS_test[i]>=(meanp-sdp*n_dev)*(1-sl/2)):\n",
    "        if pos==0:\n",
    "            pos=1\n",
    "            posvt.append(pos)\n",
    "            arrbt.append(TS_test[i])\n",
    "\n",
    "    if (TS_test[i]>=meanp+sdp*n_dev) & (TS_test[i]<=(meanp+sdp*n_dev)*(1+sl/2)):\n",
    "        if pos==0:\n",
    "            pos=-1\n",
    "            posvt.append(pos)\n",
    "            arrbt.append(TS_test[i])\n",
    "\n",
    "    if TS_test[i]>=meanp:\n",
    "        if pos==1:\n",
    "            pos=0\n",
    "            arrst.append(TS_test[i])\n",
    "    if TS_test[i]<=meanp:\n",
    "        if pos==-1:\n",
    "            pos=0\n",
    "            arrst.append(TS_test[i])\n",
    "            \n",
    "    if TS_test[i]<=(meanp-sdp*n_dev)*(1-sl):\n",
    "        if pos==1:\n",
    "            pos=0\n",
    "            arrst.append(TS_test[i])\n",
    "    \n",
    "    if TS_test[i]>=(meanp+sdp*n_dev)*(1+sl):\n",
    "        if pos==-1:\n",
    "            pos=0\n",
    "            arrst.append(TS_test[i])"
   ]
  },
  {
   "cell_type": "code",
   "execution_count": 47,
   "id": "b9dc496e",
   "metadata": {},
   "outputs": [],
   "source": [
    "return_arrt=[]\n",
    "\n",
    "for i in range(len(arrst)):\n",
    "    if posvt[i]==1:\n",
    "        return_arrt.append((arrst[i]-arrbt[i])/arrbt[i])\n",
    "    if posvt[i]==-1:\n",
    "        return_arrt.append((arrbt[i]-arrst[i])/arrbt[i])\n",
    "        "
   ]
  },
  {
   "cell_type": "code",
   "execution_count": 48,
   "id": "21e4580d",
   "metadata": {},
   "outputs": [
    {
     "data": {
      "text/html": [
       "<div>\n",
       "<style scoped>\n",
       "    .dataframe tbody tr th:only-of-type {\n",
       "        vertical-align: middle;\n",
       "    }\n",
       "\n",
       "    .dataframe tbody tr th {\n",
       "        vertical-align: top;\n",
       "    }\n",
       "\n",
       "    .dataframe thead th {\n",
       "        text-align: right;\n",
       "    }\n",
       "</style>\n",
       "<table border=\"1\" class=\"dataframe\">\n",
       "  <thead>\n",
       "    <tr style=\"text-align: right;\">\n",
       "      <th></th>\n",
       "      <th>pos</th>\n",
       "      <th>buy/sell</th>\n",
       "      <th>close</th>\n",
       "    </tr>\n",
       "  </thead>\n",
       "  <tbody>\n",
       "    <tr>\n",
       "      <th>0</th>\n",
       "      <td>-1</td>\n",
       "      <td>13.436819</td>\n",
       "      <td>12.102579</td>\n",
       "    </tr>\n",
       "    <tr>\n",
       "      <th>1</th>\n",
       "      <td>1</td>\n",
       "      <td>10.970814</td>\n",
       "      <td>12.426702</td>\n",
       "    </tr>\n",
       "    <tr>\n",
       "      <th>2</th>\n",
       "      <td>1</td>\n",
       "      <td>11.086527</td>\n",
       "      <td>12.268138</td>\n",
       "    </tr>\n",
       "  </tbody>\n",
       "</table>\n",
       "</div>"
      ],
      "text/plain": [
       "   pos   buy/sell      close\n",
       "0   -1  13.436819  12.102579\n",
       "1    1  10.970814  12.426702\n",
       "2    1  11.086527  12.268138"
      ]
     },
     "execution_count": 48,
     "metadata": {},
     "output_type": "execute_result"
    }
   ],
   "source": [
    "trade_log=pd.DataFrame(data={\"pos\":posvt, \"buy/sell\":arrbt, \"close\":arrst} )\n",
    "trade_log"
   ]
  },
  {
   "cell_type": "code",
   "execution_count": 49,
   "id": "d4ae46cf",
   "metadata": {},
   "outputs": [],
   "source": [
    "pl_arr=[]\n",
    "for i in range(len(trade_log)):\n",
    "    if trade_log.pos[i]==-1:\n",
    "        pl_arr.append((trade_log[\"buy/sell\"][i]-trade_log[\"close\"][i])/trade_log[\"buy/sell\"][i])\n",
    "    if trade_log.pos[i]==1:\n",
    "        pl_arr.append((-trade_log[\"buy/sell\"][i]+trade_log[\"close\"][i])/trade_log[\"buy/sell\"][i])"
   ]
  },
  {
   "cell_type": "code",
   "execution_count": 50,
   "id": "d8257d15",
   "metadata": {},
   "outputs": [
    {
     "data": {
      "text/html": [
       "<div>\n",
       "<style scoped>\n",
       "    .dataframe tbody tr th:only-of-type {\n",
       "        vertical-align: middle;\n",
       "    }\n",
       "\n",
       "    .dataframe tbody tr th {\n",
       "        vertical-align: top;\n",
       "    }\n",
       "\n",
       "    .dataframe thead th {\n",
       "        text-align: right;\n",
       "    }\n",
       "</style>\n",
       "<table border=\"1\" class=\"dataframe\">\n",
       "  <thead>\n",
       "    <tr style=\"text-align: right;\">\n",
       "      <th></th>\n",
       "      <th>pos</th>\n",
       "      <th>buy/sell</th>\n",
       "      <th>close</th>\n",
       "      <th>profit_loss</th>\n",
       "    </tr>\n",
       "  </thead>\n",
       "  <tbody>\n",
       "    <tr>\n",
       "      <th>0</th>\n",
       "      <td>-1</td>\n",
       "      <td>13.436819</td>\n",
       "      <td>12.102579</td>\n",
       "      <td>0.099297</td>\n",
       "    </tr>\n",
       "    <tr>\n",
       "      <th>1</th>\n",
       "      <td>1</td>\n",
       "      <td>10.970814</td>\n",
       "      <td>12.426702</td>\n",
       "      <td>0.132706</td>\n",
       "    </tr>\n",
       "    <tr>\n",
       "      <th>2</th>\n",
       "      <td>1</td>\n",
       "      <td>11.086527</td>\n",
       "      <td>12.268138</td>\n",
       "      <td>0.106581</td>\n",
       "    </tr>\n",
       "  </tbody>\n",
       "</table>\n",
       "</div>"
      ],
      "text/plain": [
       "   pos   buy/sell      close  profit_loss\n",
       "0   -1  13.436819  12.102579     0.099297\n",
       "1    1  10.970814  12.426702     0.132706\n",
       "2    1  11.086527  12.268138     0.106581"
      ]
     },
     "execution_count": 50,
     "metadata": {},
     "output_type": "execute_result"
    }
   ],
   "source": [
    "trade_log[\"profit_loss\"]=pl_arr\n",
    "trade_log"
   ]
  },
  {
   "cell_type": "code",
   "execution_count": 51,
   "id": "b4afcbf8",
   "metadata": {},
   "outputs": [
    {
     "data": {
      "text/plain": [
       "0    1.099297\n",
       "1    1.245180\n",
       "2    1.377892\n",
       "Name: profit_loss, dtype: float64"
      ]
     },
     "execution_count": 51,
     "metadata": {},
     "output_type": "execute_result"
    }
   ],
   "source": [
    "(1+trade_log.profit_loss).cumprod()"
   ]
  },
  {
   "cell_type": "code",
   "execution_count": 52,
   "id": "b419b2f1",
   "metadata": {},
   "outputs": [
    {
     "name": "stdout",
     "output_type": "stream",
     "text": [
      "The O/S sharpe ratio is 6.424502608859267\n"
     ]
    }
   ],
   "source": [
    "print(\"The O/S sharpe ratio is {}\".format(trade_log.profit_loss.mean()/trade_log.profit_loss.std()))"
   ]
  }
 ],
 "metadata": {
  "hide_input": false,
  "kernelspec": {
   "display_name": "Python 3 (ipykernel)",
   "language": "python",
   "name": "python3"
  },
  "language_info": {
   "codemirror_mode": {
    "name": "ipython",
    "version": 3
   },
   "file_extension": ".py",
   "mimetype": "text/x-python",
   "name": "python",
   "nbconvert_exporter": "python",
   "pygments_lexer": "ipython3",
   "version": "3.9.7"
  }
 },
 "nbformat": 4,
 "nbformat_minor": 5
}
