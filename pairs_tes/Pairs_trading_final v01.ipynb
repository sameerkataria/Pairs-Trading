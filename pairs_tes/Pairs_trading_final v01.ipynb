{
 "cells": [
  {
   "cell_type": "markdown",
   "id": "ca37c8e6",
   "metadata": {},
   "source": [
    "# Pairs Trading"
   ]
  },
  {
   "cell_type": "markdown",
   "id": "6d911aa2",
   "metadata": {},
   "source": [
    "### Importing Libraries"
   ]
  },
  {
   "cell_type": "code",
   "execution_count": 1,
   "id": "f79d95d8",
   "metadata": {},
   "outputs": [],
   "source": [
    "import numpy as np\n",
    "import pandas as pd\n",
    "import statsmodels\n",
    "# import statsmodels.api as sm\n",
    "from statsmodels.tsa.stattools import coint, adfuller\n",
    "import matplotlib.pyplot as plt\n",
    "import seaborn as sns; sns.set(style=\"whitegrid\")\n",
    "import yfinance as yf\n",
    "import statsmodels.formula.api as sm"
   ]
  },
  {
   "cell_type": "code",
   "execution_count": 2,
   "id": "39f2e1ce",
   "metadata": {},
   "outputs": [],
   "source": [
    "# Tickers_nifty = pd.read_csv(\"C:/Users/Sameer Kataria/Desktop/New folder/nifty50_tickers.csv\")\n",
    "# ticker_list = Tickers_nifty['Ticker'].to_list()\n",
    "# ticker_list = [s + '.NS' for s in ticker_list]"
   ]
  },
  {
   "cell_type": "code",
   "execution_count": 3,
   "id": "57969240",
   "metadata": {},
   "outputs": [],
   "source": [
    "Tickers_nyse = pd.read_csv(\"tickers_nyse.csv\")\n",
    "# ticker_list = Tickers_nifty['Ticker'].to_list()\n",
    "# ticker_list = [s + '.NS' for s in ticker_list]"
   ]
  },
  {
   "cell_type": "code",
   "execution_count": 4,
   "id": "859dc59c",
   "metadata": {},
   "outputs": [
    {
     "data": {
      "text/plain": [
       "array(['Industrials', 'Health Care', 'Information Technology',\n",
       "       'Communication Services', 'Consumer Staples',\n",
       "       'Consumer Discretionary', 'Utilities', 'Financials', 'Materials',\n",
       "       'Real Estate', 'Energy'], dtype=object)"
      ]
     },
     "execution_count": 4,
     "metadata": {},
     "output_type": "execute_result"
    }
   ],
   "source": [
    "Tickers_nyse[\"Sector\"].unique()"
   ]
  },
  {
   "cell_type": "code",
   "execution_count": 5,
   "id": "9d9c0f4e",
   "metadata": {},
   "outputs": [],
   "source": [
    "health_data=Tickers_nyse[Tickers_nyse[\"Sector\"]==\"Energy\"]"
   ]
  },
  {
   "cell_type": "code",
   "execution_count": 6,
   "id": "ffcb4fd9",
   "metadata": {},
   "outputs": [],
   "source": [
    "ticker_list=health_data.Symbol.values"
   ]
  },
  {
   "cell_type": "code",
   "execution_count": 7,
   "id": "520ad086",
   "metadata": {},
   "outputs": [
    {
     "name": "stdout",
     "output_type": "stream",
     "text": [
      "[*********************100%***********************]  21 of 21 completed\n"
     ]
    }
   ],
   "source": [
    "df = yf.download(\" \".join(ticker_list), start = \"2022-02-05\", end = \"2022-04-01\", interval=\"5m\")[\"Adj Close\"]"
   ]
  },
  {
   "cell_type": "code",
   "execution_count": 8,
   "id": "4261f49c",
   "metadata": {},
   "outputs": [],
   "source": [
    "# df=df.dropna(how=\"all\", axis=1)\n",
    "\n",
    "# df=df[:-1]\n",
    "\n",
    "# df.isna().sum()"
   ]
  },
  {
   "cell_type": "code",
   "execution_count": 9,
   "id": "cae586cb",
   "metadata": {},
   "outputs": [],
   "source": [
    "# df=df[:-1]"
   ]
  },
  {
   "cell_type": "code",
   "execution_count": 10,
   "id": "f0f7b5ba",
   "metadata": {},
   "outputs": [
    {
     "data": {
      "text/plain": [
       "APA     0\n",
       "BKR     0\n",
       "COP     0\n",
       "CTRA    0\n",
       "CVX     0\n",
       "DVN     0\n",
       "EOG     0\n",
       "FANG    0\n",
       "HAL     0\n",
       "HES     0\n",
       "KMI     0\n",
       "MPC     0\n",
       "MRO     0\n",
       "OKE     0\n",
       "OXY     2\n",
       "PSX     0\n",
       "PXD     0\n",
       "SLB     0\n",
       "VLO     0\n",
       "WMB     0\n",
       "XOM     0\n",
       "dtype: int64"
      ]
     },
     "execution_count": 10,
     "metadata": {},
     "output_type": "execute_result"
    }
   ],
   "source": [
    "df.isna().sum()"
   ]
  },
  {
   "cell_type": "code",
   "execution_count": 11,
   "id": "ccbb2e11",
   "metadata": {},
   "outputs": [],
   "source": [
    "data=df.dropna()"
   ]
  },
  {
   "cell_type": "code",
   "execution_count": 12,
   "id": "bcef06ea",
   "metadata": {},
   "outputs": [],
   "source": [
    "data=pd.DataFrame(data=data.values, columns=ticker_list)"
   ]
  },
  {
   "cell_type": "code",
   "execution_count": 13,
   "id": "06099648",
   "metadata": {},
   "outputs": [],
   "source": [
    "# data=pd.DataFrame(data=data.values, columns=Tickers_nifty[\"Ticker\"].values)"
   ]
  },
  {
   "cell_type": "code",
   "execution_count": 14,
   "id": "87cf8c84",
   "metadata": {},
   "outputs": [],
   "source": [
    "n = data.shape[1]\n",
    "score_matrix = np.zeros((n, n))\n",
    "pvalue_matrix = np.ones((n, n))\n",
    "stock = data.columns"
   ]
  },
  {
   "cell_type": "code",
   "execution_count": 15,
   "id": "9506a221",
   "metadata": {},
   "outputs": [
    {
     "data": {
      "text/html": [
       "<div>\n",
       "<style scoped>\n",
       "    .dataframe tbody tr th:only-of-type {\n",
       "        vertical-align: middle;\n",
       "    }\n",
       "\n",
       "    .dataframe tbody tr th {\n",
       "        vertical-align: top;\n",
       "    }\n",
       "\n",
       "    .dataframe thead th {\n",
       "        text-align: right;\n",
       "    }\n",
       "</style>\n",
       "<table border=\"1\" class=\"dataframe\">\n",
       "  <thead>\n",
       "    <tr style=\"text-align: right;\">\n",
       "      <th></th>\n",
       "      <th>APA</th>\n",
       "      <th>BKR</th>\n",
       "      <th>CVX</th>\n",
       "      <th>COP</th>\n",
       "      <th>CTRA</th>\n",
       "      <th>DVN</th>\n",
       "      <th>FANG</th>\n",
       "      <th>EOG</th>\n",
       "      <th>XOM</th>\n",
       "      <th>HAL</th>\n",
       "      <th>...</th>\n",
       "      <th>KMI</th>\n",
       "      <th>MRO</th>\n",
       "      <th>MPC</th>\n",
       "      <th>OXY</th>\n",
       "      <th>OKE</th>\n",
       "      <th>PSX</th>\n",
       "      <th>PXD</th>\n",
       "      <th>SLB</th>\n",
       "      <th>VLO</th>\n",
       "      <th>WMB</th>\n",
       "    </tr>\n",
       "  </thead>\n",
       "  <tbody>\n",
       "    <tr>\n",
       "      <th>0</th>\n",
       "      <td>33.570000</td>\n",
       "      <td>26.660000</td>\n",
       "      <td>90.330002</td>\n",
       "      <td>23.040001</td>\n",
       "      <td>135.080002</td>\n",
       "      <td>52.000000</td>\n",
       "      <td>112.010002</td>\n",
       "      <td>129.610001</td>\n",
       "      <td>31.459999</td>\n",
       "      <td>94.089996</td>\n",
       "      <td>...</td>\n",
       "      <td>78.010002</td>\n",
       "      <td>21.169701</td>\n",
       "      <td>62.505001</td>\n",
       "      <td>40.009998</td>\n",
       "      <td>88.245003</td>\n",
       "      <td>224.559998</td>\n",
       "      <td>38.099998</td>\n",
       "      <td>86.144501</td>\n",
       "      <td>30.469999</td>\n",
       "      <td>80.885002</td>\n",
       "    </tr>\n",
       "    <tr>\n",
       "      <th>1</th>\n",
       "      <td>33.506401</td>\n",
       "      <td>26.889999</td>\n",
       "      <td>90.099998</td>\n",
       "      <td>22.840000</td>\n",
       "      <td>135.210098</td>\n",
       "      <td>51.893200</td>\n",
       "      <td>112.320000</td>\n",
       "      <td>130.039993</td>\n",
       "      <td>31.580000</td>\n",
       "      <td>94.099998</td>\n",
       "      <td>...</td>\n",
       "      <td>78.160004</td>\n",
       "      <td>21.133101</td>\n",
       "      <td>62.889999</td>\n",
       "      <td>40.015999</td>\n",
       "      <td>88.843300</td>\n",
       "      <td>224.800003</td>\n",
       "      <td>38.345001</td>\n",
       "      <td>86.839996</td>\n",
       "      <td>30.440001</td>\n",
       "      <td>81.150002</td>\n",
       "    </tr>\n",
       "    <tr>\n",
       "      <th>2</th>\n",
       "      <td>33.279999</td>\n",
       "      <td>26.850000</td>\n",
       "      <td>89.889999</td>\n",
       "      <td>22.850000</td>\n",
       "      <td>135.259995</td>\n",
       "      <td>51.750000</td>\n",
       "      <td>112.459999</td>\n",
       "      <td>129.617294</td>\n",
       "      <td>31.530001</td>\n",
       "      <td>93.845001</td>\n",
       "      <td>...</td>\n",
       "      <td>78.300003</td>\n",
       "      <td>21.117001</td>\n",
       "      <td>62.910000</td>\n",
       "      <td>39.790001</td>\n",
       "      <td>88.690002</td>\n",
       "      <td>224.199997</td>\n",
       "      <td>38.334999</td>\n",
       "      <td>86.964996</td>\n",
       "      <td>30.532499</td>\n",
       "      <td>81.179100</td>\n",
       "    </tr>\n",
       "    <tr>\n",
       "      <th>3</th>\n",
       "      <td>33.540001</td>\n",
       "      <td>26.950001</td>\n",
       "      <td>90.599998</td>\n",
       "      <td>23.070000</td>\n",
       "      <td>136.027496</td>\n",
       "      <td>52.450001</td>\n",
       "      <td>113.300003</td>\n",
       "      <td>130.785004</td>\n",
       "      <td>31.820000</td>\n",
       "      <td>94.650002</td>\n",
       "      <td>...</td>\n",
       "      <td>78.690002</td>\n",
       "      <td>21.290001</td>\n",
       "      <td>62.959999</td>\n",
       "      <td>40.285000</td>\n",
       "      <td>89.190002</td>\n",
       "      <td>225.419998</td>\n",
       "      <td>38.650002</td>\n",
       "      <td>87.389999</td>\n",
       "      <td>30.629999</td>\n",
       "      <td>81.690002</td>\n",
       "    </tr>\n",
       "    <tr>\n",
       "      <th>4</th>\n",
       "      <td>33.730000</td>\n",
       "      <td>27.055000</td>\n",
       "      <td>90.430000</td>\n",
       "      <td>23.209999</td>\n",
       "      <td>136.369995</td>\n",
       "      <td>52.619999</td>\n",
       "      <td>113.559998</td>\n",
       "      <td>131.326599</td>\n",
       "      <td>31.860001</td>\n",
       "      <td>94.745003</td>\n",
       "      <td>...</td>\n",
       "      <td>78.718697</td>\n",
       "      <td>21.330000</td>\n",
       "      <td>63.169998</td>\n",
       "      <td>40.404999</td>\n",
       "      <td>89.300003</td>\n",
       "      <td>225.595001</td>\n",
       "      <td>38.785000</td>\n",
       "      <td>87.540001</td>\n",
       "      <td>30.639999</td>\n",
       "      <td>81.555000</td>\n",
       "    </tr>\n",
       "    <tr>\n",
       "      <th>...</th>\n",
       "      <td>...</td>\n",
       "      <td>...</td>\n",
       "      <td>...</td>\n",
       "      <td>...</td>\n",
       "      <td>...</td>\n",
       "      <td>...</td>\n",
       "      <td>...</td>\n",
       "      <td>...</td>\n",
       "      <td>...</td>\n",
       "      <td>...</td>\n",
       "      <td>...</td>\n",
       "      <td>...</td>\n",
       "      <td>...</td>\n",
       "      <td>...</td>\n",
       "      <td>...</td>\n",
       "      <td>...</td>\n",
       "      <td>...</td>\n",
       "      <td>...</td>\n",
       "      <td>...</td>\n",
       "      <td>...</td>\n",
       "      <td>...</td>\n",
       "    </tr>\n",
       "    <tr>\n",
       "      <th>2958</th>\n",
       "      <td>41.540001</td>\n",
       "      <td>36.419998</td>\n",
       "      <td>100.684998</td>\n",
       "      <td>27.020000</td>\n",
       "      <td>163.139999</td>\n",
       "      <td>59.544998</td>\n",
       "      <td>119.919998</td>\n",
       "      <td>137.820007</td>\n",
       "      <td>38.014999</td>\n",
       "      <td>107.809998</td>\n",
       "      <td>...</td>\n",
       "      <td>85.890999</td>\n",
       "      <td>25.240000</td>\n",
       "      <td>70.980003</td>\n",
       "      <td>56.959999</td>\n",
       "      <td>86.705002</td>\n",
       "      <td>252.050003</td>\n",
       "      <td>41.485001</td>\n",
       "      <td>102.514999</td>\n",
       "      <td>33.555000</td>\n",
       "      <td>82.919899</td>\n",
       "    </tr>\n",
       "    <tr>\n",
       "      <th>2959</th>\n",
       "      <td>41.465000</td>\n",
       "      <td>36.180000</td>\n",
       "      <td>100.379997</td>\n",
       "      <td>27.020000</td>\n",
       "      <td>162.789993</td>\n",
       "      <td>59.285000</td>\n",
       "      <td>119.349998</td>\n",
       "      <td>137.500000</td>\n",
       "      <td>37.790001</td>\n",
       "      <td>107.510002</td>\n",
       "      <td>...</td>\n",
       "      <td>85.680000</td>\n",
       "      <td>25.138500</td>\n",
       "      <td>70.855003</td>\n",
       "      <td>56.810001</td>\n",
       "      <td>86.519997</td>\n",
       "      <td>251.360001</td>\n",
       "      <td>41.275501</td>\n",
       "      <td>101.970001</td>\n",
       "      <td>33.465000</td>\n",
       "      <td>82.555000</td>\n",
       "    </tr>\n",
       "    <tr>\n",
       "      <th>2960</th>\n",
       "      <td>41.419998</td>\n",
       "      <td>36.334999</td>\n",
       "      <td>100.480003</td>\n",
       "      <td>27.055000</td>\n",
       "      <td>163.169998</td>\n",
       "      <td>59.349998</td>\n",
       "      <td>119.610001</td>\n",
       "      <td>137.449997</td>\n",
       "      <td>37.970001</td>\n",
       "      <td>107.440002</td>\n",
       "      <td>...</td>\n",
       "      <td>85.839996</td>\n",
       "      <td>25.184999</td>\n",
       "      <td>70.809998</td>\n",
       "      <td>56.889999</td>\n",
       "      <td>86.690002</td>\n",
       "      <td>251.289993</td>\n",
       "      <td>41.465000</td>\n",
       "      <td>102.290001</td>\n",
       "      <td>33.505001</td>\n",
       "      <td>82.900002</td>\n",
       "    </tr>\n",
       "    <tr>\n",
       "      <th>2961</th>\n",
       "      <td>41.320000</td>\n",
       "      <td>36.419998</td>\n",
       "      <td>100.010002</td>\n",
       "      <td>26.980000</td>\n",
       "      <td>162.809998</td>\n",
       "      <td>59.119999</td>\n",
       "      <td>119.230003</td>\n",
       "      <td>137.100006</td>\n",
       "      <td>37.875000</td>\n",
       "      <td>107.040001</td>\n",
       "      <td>...</td>\n",
       "      <td>85.489998</td>\n",
       "      <td>25.110001</td>\n",
       "      <td>70.629997</td>\n",
       "      <td>56.740002</td>\n",
       "      <td>86.389999</td>\n",
       "      <td>249.860001</td>\n",
       "      <td>41.299999</td>\n",
       "      <td>101.540001</td>\n",
       "      <td>33.410000</td>\n",
       "      <td>82.620003</td>\n",
       "    </tr>\n",
       "    <tr>\n",
       "      <th>2962</th>\n",
       "      <td>42.980000</td>\n",
       "      <td>36.430000</td>\n",
       "      <td>100.550003</td>\n",
       "      <td>26.580000</td>\n",
       "      <td>164.369995</td>\n",
       "      <td>60.849998</td>\n",
       "      <td>120.830002</td>\n",
       "      <td>139.589996</td>\n",
       "      <td>38.770000</td>\n",
       "      <td>109.709999</td>\n",
       "      <td>...</td>\n",
       "      <td>85.070000</td>\n",
       "      <td>25.680000</td>\n",
       "      <td>71.169998</td>\n",
       "      <td>57.790001</td>\n",
       "      <td>86.669998</td>\n",
       "      <td>252.750000</td>\n",
       "      <td>41.549999</td>\n",
       "      <td>100.739998</td>\n",
       "      <td>33.730000</td>\n",
       "      <td>83.160004</td>\n",
       "    </tr>\n",
       "  </tbody>\n",
       "</table>\n",
       "<p>2963 rows × 21 columns</p>\n",
       "</div>"
      ],
      "text/plain": [
       "            APA        BKR         CVX        COP        CTRA        DVN  \\\n",
       "0     33.570000  26.660000   90.330002  23.040001  135.080002  52.000000   \n",
       "1     33.506401  26.889999   90.099998  22.840000  135.210098  51.893200   \n",
       "2     33.279999  26.850000   89.889999  22.850000  135.259995  51.750000   \n",
       "3     33.540001  26.950001   90.599998  23.070000  136.027496  52.450001   \n",
       "4     33.730000  27.055000   90.430000  23.209999  136.369995  52.619999   \n",
       "...         ...        ...         ...        ...         ...        ...   \n",
       "2958  41.540001  36.419998  100.684998  27.020000  163.139999  59.544998   \n",
       "2959  41.465000  36.180000  100.379997  27.020000  162.789993  59.285000   \n",
       "2960  41.419998  36.334999  100.480003  27.055000  163.169998  59.349998   \n",
       "2961  41.320000  36.419998  100.010002  26.980000  162.809998  59.119999   \n",
       "2962  42.980000  36.430000  100.550003  26.580000  164.369995  60.849998   \n",
       "\n",
       "            FANG         EOG        XOM         HAL  ...        KMI  \\\n",
       "0     112.010002  129.610001  31.459999   94.089996  ...  78.010002   \n",
       "1     112.320000  130.039993  31.580000   94.099998  ...  78.160004   \n",
       "2     112.459999  129.617294  31.530001   93.845001  ...  78.300003   \n",
       "3     113.300003  130.785004  31.820000   94.650002  ...  78.690002   \n",
       "4     113.559998  131.326599  31.860001   94.745003  ...  78.718697   \n",
       "...          ...         ...        ...         ...  ...        ...   \n",
       "2958  119.919998  137.820007  38.014999  107.809998  ...  85.890999   \n",
       "2959  119.349998  137.500000  37.790001  107.510002  ...  85.680000   \n",
       "2960  119.610001  137.449997  37.970001  107.440002  ...  85.839996   \n",
       "2961  119.230003  137.100006  37.875000  107.040001  ...  85.489998   \n",
       "2962  120.830002  139.589996  38.770000  109.709999  ...  85.070000   \n",
       "\n",
       "            MRO        MPC        OXY        OKE         PSX        PXD  \\\n",
       "0     21.169701  62.505001  40.009998  88.245003  224.559998  38.099998   \n",
       "1     21.133101  62.889999  40.015999  88.843300  224.800003  38.345001   \n",
       "2     21.117001  62.910000  39.790001  88.690002  224.199997  38.334999   \n",
       "3     21.290001  62.959999  40.285000  89.190002  225.419998  38.650002   \n",
       "4     21.330000  63.169998  40.404999  89.300003  225.595001  38.785000   \n",
       "...         ...        ...        ...        ...         ...        ...   \n",
       "2958  25.240000  70.980003  56.959999  86.705002  252.050003  41.485001   \n",
       "2959  25.138500  70.855003  56.810001  86.519997  251.360001  41.275501   \n",
       "2960  25.184999  70.809998  56.889999  86.690002  251.289993  41.465000   \n",
       "2961  25.110001  70.629997  56.740002  86.389999  249.860001  41.299999   \n",
       "2962  25.680000  71.169998  57.790001  86.669998  252.750000  41.549999   \n",
       "\n",
       "             SLB        VLO        WMB  \n",
       "0      86.144501  30.469999  80.885002  \n",
       "1      86.839996  30.440001  81.150002  \n",
       "2      86.964996  30.532499  81.179100  \n",
       "3      87.389999  30.629999  81.690002  \n",
       "4      87.540001  30.639999  81.555000  \n",
       "...          ...        ...        ...  \n",
       "2958  102.514999  33.555000  82.919899  \n",
       "2959  101.970001  33.465000  82.555000  \n",
       "2960  102.290001  33.505001  82.900002  \n",
       "2961  101.540001  33.410000  82.620003  \n",
       "2962  100.739998  33.730000  83.160004  \n",
       "\n",
       "[2963 rows x 21 columns]"
      ]
     },
     "execution_count": 15,
     "metadata": {},
     "output_type": "execute_result"
    }
   ],
   "source": [
    "data"
   ]
  },
  {
   "cell_type": "markdown",
   "id": "5ce11703",
   "metadata": {},
   "source": [
    "### Checking for relevant pairs"
   ]
  },
  {
   "cell_type": "code",
   "execution_count": 16,
   "id": "e0beec04",
   "metadata": {},
   "outputs": [],
   "source": [
    "pairs = []\n",
    "for i in range(n):\n",
    "    for j in range(i+1, n):\n",
    "        \n",
    "        S1 = data[stock[i]]\n",
    "        S2 = data[stock[j]]\n",
    "        result = coint(S1, S2)\n",
    "        score = result[0]\n",
    "        pvalue = result[1]\n",
    "        score_matrix[i, j] = score\n",
    "        pvalue_matrix[i, j] = pvalue\n",
    "        if pvalue < 0.05:\n",
    "            pairs.append((stock[i], stock[j]))"
   ]
  },
  {
   "cell_type": "code",
   "execution_count": 17,
   "id": "5cffb88b",
   "metadata": {},
   "outputs": [],
   "source": [
    "# plt.figure(figsize=(10,8))\n",
    "# sns.heatmap(score_matrix)"
   ]
  },
  {
   "cell_type": "code",
   "execution_count": 18,
   "id": "9c28bd65",
   "metadata": {},
   "outputs": [
    {
     "data": {
      "text/html": [
       "<div>\n",
       "<style scoped>\n",
       "    .dataframe tbody tr th:only-of-type {\n",
       "        vertical-align: middle;\n",
       "    }\n",
       "\n",
       "    .dataframe tbody tr th {\n",
       "        vertical-align: top;\n",
       "    }\n",
       "\n",
       "    .dataframe thead th {\n",
       "        text-align: right;\n",
       "    }\n",
       "</style>\n",
       "<table border=\"1\" class=\"dataframe\">\n",
       "  <thead>\n",
       "    <tr style=\"text-align: right;\">\n",
       "      <th></th>\n",
       "      <th>0</th>\n",
       "      <th>1</th>\n",
       "    </tr>\n",
       "  </thead>\n",
       "  <tbody>\n",
       "    <tr>\n",
       "      <th>0</th>\n",
       "      <td>APA</td>\n",
       "      <td>FANG</td>\n",
       "    </tr>\n",
       "    <tr>\n",
       "      <th>1</th>\n",
       "      <td>CVX</td>\n",
       "      <td>FANG</td>\n",
       "    </tr>\n",
       "    <tr>\n",
       "      <th>2</th>\n",
       "      <td>COP</td>\n",
       "      <td>FANG</td>\n",
       "    </tr>\n",
       "    <tr>\n",
       "      <th>3</th>\n",
       "      <td>COP</td>\n",
       "      <td>MPC</td>\n",
       "    </tr>\n",
       "    <tr>\n",
       "      <th>4</th>\n",
       "      <td>COP</td>\n",
       "      <td>VLO</td>\n",
       "    </tr>\n",
       "    <tr>\n",
       "      <th>5</th>\n",
       "      <td>FANG</td>\n",
       "      <td>XOM</td>\n",
       "    </tr>\n",
       "    <tr>\n",
       "      <th>6</th>\n",
       "      <td>FANG</td>\n",
       "      <td>HES</td>\n",
       "    </tr>\n",
       "    <tr>\n",
       "      <th>7</th>\n",
       "      <td>FANG</td>\n",
       "      <td>MRO</td>\n",
       "    </tr>\n",
       "    <tr>\n",
       "      <th>8</th>\n",
       "      <td>FANG</td>\n",
       "      <td>MPC</td>\n",
       "    </tr>\n",
       "    <tr>\n",
       "      <th>9</th>\n",
       "      <td>FANG</td>\n",
       "      <td>OXY</td>\n",
       "    </tr>\n",
       "    <tr>\n",
       "      <th>10</th>\n",
       "      <td>FANG</td>\n",
       "      <td>VLO</td>\n",
       "    </tr>\n",
       "    <tr>\n",
       "      <th>11</th>\n",
       "      <td>EOG</td>\n",
       "      <td>HAL</td>\n",
       "    </tr>\n",
       "    <tr>\n",
       "      <th>12</th>\n",
       "      <td>EOG</td>\n",
       "      <td>MPC</td>\n",
       "    </tr>\n",
       "    <tr>\n",
       "      <th>13</th>\n",
       "      <td>EOG</td>\n",
       "      <td>PSX</td>\n",
       "    </tr>\n",
       "  </tbody>\n",
       "</table>\n",
       "</div>"
      ],
      "text/plain": [
       "       0     1\n",
       "0    APA  FANG\n",
       "1    CVX  FANG\n",
       "2    COP  FANG\n",
       "3    COP   MPC\n",
       "4    COP   VLO\n",
       "5   FANG   XOM\n",
       "6   FANG   HES\n",
       "7   FANG   MRO\n",
       "8   FANG   MPC\n",
       "9   FANG   OXY\n",
       "10  FANG   VLO\n",
       "11   EOG   HAL\n",
       "12   EOG   MPC\n",
       "13   EOG   PSX"
      ]
     },
     "execution_count": 18,
     "metadata": {},
     "output_type": "execute_result"
    }
   ],
   "source": [
    "pd.DataFrame(pairs)"
   ]
  },
  {
   "cell_type": "code",
   "execution_count": 17,
   "id": "08ceaa40",
   "metadata": {},
   "outputs": [],
   "source": [
    "## a denotes score\n",
    "## b is p values\n",
    "## c is confidence interval\n",
    "a,b,c=coint(data[pairs[5][0]], data[pairs[5][1]])"
   ]
  },
  {
   "cell_type": "code",
   "execution_count": 18,
   "id": "de1b7e5a",
   "metadata": {},
   "outputs": [
    {
     "data": {
      "text/plain": [
       "0.04046580818594377"
      ]
     },
     "execution_count": 18,
     "metadata": {},
     "output_type": "execute_result"
    }
   ],
   "source": [
    "b"
   ]
  },
  {
   "cell_type": "markdown",
   "id": "5faf9399",
   "metadata": {},
   "source": [
    "Testing for Coint"
   ]
  },
  {
   "cell_type": "code",
   "execution_count": 31,
   "id": "7ce926ce",
   "metadata": {},
   "outputs": [],
   "source": [
    "data=pd.read_csv(\"data.csv\", parse_dates=[\"Date\"])"
   ]
  },
  {
   "cell_type": "code",
   "execution_count": 32,
   "id": "38ff5ef2",
   "metadata": {},
   "outputs": [
    {
     "data": {
      "text/html": [
       "<div>\n",
       "<style scoped>\n",
       "    .dataframe tbody tr th:only-of-type {\n",
       "        vertical-align: middle;\n",
       "    }\n",
       "\n",
       "    .dataframe tbody tr th {\n",
       "        vertical-align: top;\n",
       "    }\n",
       "\n",
       "    .dataframe thead th {\n",
       "        text-align: right;\n",
       "    }\n",
       "</style>\n",
       "<table border=\"1\" class=\"dataframe\">\n",
       "  <thead>\n",
       "    <tr style=\"text-align: right;\">\n",
       "      <th></th>\n",
       "      <th>Date</th>\n",
       "      <th>FANG</th>\n",
       "      <th>XOM</th>\n",
       "    </tr>\n",
       "  </thead>\n",
       "  <tbody>\n",
       "    <tr>\n",
       "      <th>0</th>\n",
       "      <td>2022-04-04 15:55:00</td>\n",
       "      <td>139.59</td>\n",
       "      <td>83.1700</td>\n",
       "    </tr>\n",
       "    <tr>\n",
       "      <th>1</th>\n",
       "      <td>2022-04-04 15:50:00</td>\n",
       "      <td>139.62</td>\n",
       "      <td>83.2300</td>\n",
       "    </tr>\n",
       "    <tr>\n",
       "      <th>2</th>\n",
       "      <td>2022-04-04 15:45:00</td>\n",
       "      <td>139.76</td>\n",
       "      <td>83.2200</td>\n",
       "    </tr>\n",
       "    <tr>\n",
       "      <th>3</th>\n",
       "      <td>2022-04-04 15:40:00</td>\n",
       "      <td>139.72</td>\n",
       "      <td>83.1400</td>\n",
       "    </tr>\n",
       "    <tr>\n",
       "      <th>4</th>\n",
       "      <td>2022-04-04 15:35:00</td>\n",
       "      <td>139.76</td>\n",
       "      <td>83.1345</td>\n",
       "    </tr>\n",
       "  </tbody>\n",
       "</table>\n",
       "</div>"
      ],
      "text/plain": [
       "                 Date    FANG      XOM\n",
       "0 2022-04-04 15:55:00  139.59  83.1700\n",
       "1 2022-04-04 15:50:00  139.62  83.2300\n",
       "2 2022-04-04 15:45:00  139.76  83.2200\n",
       "3 2022-04-04 15:40:00  139.72  83.1400\n",
       "4 2022-04-04 15:35:00  139.76  83.1345"
      ]
     },
     "execution_count": 32,
     "metadata": {},
     "output_type": "execute_result"
    }
   ],
   "source": [
    "data.head()"
   ]
  },
  {
   "cell_type": "code",
   "execution_count": 36,
   "id": "62fe1c3f",
   "metadata": {},
   "outputs": [],
   "source": [
    "data=data.sort_values(\"Date\").reset_index(drop=True)"
   ]
  },
  {
   "cell_type": "code",
   "execution_count": 37,
   "id": "a019f74e",
   "metadata": {},
   "outputs": [],
   "source": [
    "data=data.ffill()"
   ]
  },
  {
   "cell_type": "code",
   "execution_count": 41,
   "id": "0662ae4d",
   "metadata": {},
   "outputs": [
    {
     "data": {
      "text/html": [
       "<div>\n",
       "<style scoped>\n",
       "    .dataframe tbody tr th:only-of-type {\n",
       "        vertical-align: middle;\n",
       "    }\n",
       "\n",
       "    .dataframe tbody tr th {\n",
       "        vertical-align: top;\n",
       "    }\n",
       "\n",
       "    .dataframe thead th {\n",
       "        text-align: right;\n",
       "    }\n",
       "</style>\n",
       "<table border=\"1\" class=\"dataframe\">\n",
       "  <thead>\n",
       "    <tr style=\"text-align: right;\">\n",
       "      <th></th>\n",
       "      <th>Date</th>\n",
       "      <th>FANG</th>\n",
       "      <th>XOM</th>\n",
       "    </tr>\n",
       "  </thead>\n",
       "  <tbody>\n",
       "    <tr>\n",
       "      <th>0</th>\n",
       "      <td>2021-08-12 09:30:00</td>\n",
       "      <td>79.59</td>\n",
       "      <td>57.7000</td>\n",
       "    </tr>\n",
       "    <tr>\n",
       "      <th>1</th>\n",
       "      <td>2021-08-12 09:35:00</td>\n",
       "      <td>79.22</td>\n",
       "      <td>57.5300</td>\n",
       "    </tr>\n",
       "    <tr>\n",
       "      <th>2</th>\n",
       "      <td>2021-08-12 09:40:00</td>\n",
       "      <td>79.20</td>\n",
       "      <td>57.4500</td>\n",
       "    </tr>\n",
       "    <tr>\n",
       "      <th>3</th>\n",
       "      <td>2021-08-12 09:45:00</td>\n",
       "      <td>78.99</td>\n",
       "      <td>57.3100</td>\n",
       "    </tr>\n",
       "    <tr>\n",
       "      <th>4</th>\n",
       "      <td>2021-08-12 09:50:00</td>\n",
       "      <td>78.53</td>\n",
       "      <td>57.1599</td>\n",
       "    </tr>\n",
       "    <tr>\n",
       "      <th>...</th>\n",
       "      <td>...</td>\n",
       "      <td>...</td>\n",
       "      <td>...</td>\n",
       "    </tr>\n",
       "    <tr>\n",
       "      <th>12681</th>\n",
       "      <td>2022-04-04 15:35:00</td>\n",
       "      <td>139.76</td>\n",
       "      <td>83.1345</td>\n",
       "    </tr>\n",
       "    <tr>\n",
       "      <th>12682</th>\n",
       "      <td>2022-04-04 15:40:00</td>\n",
       "      <td>139.72</td>\n",
       "      <td>83.1400</td>\n",
       "    </tr>\n",
       "    <tr>\n",
       "      <th>12683</th>\n",
       "      <td>2022-04-04 15:45:00</td>\n",
       "      <td>139.76</td>\n",
       "      <td>83.2200</td>\n",
       "    </tr>\n",
       "    <tr>\n",
       "      <th>12684</th>\n",
       "      <td>2022-04-04 15:50:00</td>\n",
       "      <td>139.62</td>\n",
       "      <td>83.2300</td>\n",
       "    </tr>\n",
       "    <tr>\n",
       "      <th>12685</th>\n",
       "      <td>2022-04-04 15:55:00</td>\n",
       "      <td>139.59</td>\n",
       "      <td>83.1700</td>\n",
       "    </tr>\n",
       "  </tbody>\n",
       "</table>\n",
       "<p>12686 rows × 3 columns</p>\n",
       "</div>"
      ],
      "text/plain": [
       "                     Date    FANG      XOM\n",
       "0     2021-08-12 09:30:00   79.59  57.7000\n",
       "1     2021-08-12 09:35:00   79.22  57.5300\n",
       "2     2021-08-12 09:40:00   79.20  57.4500\n",
       "3     2021-08-12 09:45:00   78.99  57.3100\n",
       "4     2021-08-12 09:50:00   78.53  57.1599\n",
       "...                   ...     ...      ...\n",
       "12681 2022-04-04 15:35:00  139.76  83.1345\n",
       "12682 2022-04-04 15:40:00  139.72  83.1400\n",
       "12683 2022-04-04 15:45:00  139.76  83.2200\n",
       "12684 2022-04-04 15:50:00  139.62  83.2300\n",
       "12685 2022-04-04 15:55:00  139.59  83.1700\n",
       "\n",
       "[12686 rows x 3 columns]"
      ]
     },
     "execution_count": 41,
     "metadata": {},
     "output_type": "execute_result"
    }
   ],
   "source": [
    "data"
   ]
  },
  {
   "cell_type": "code",
   "execution_count": 43,
   "id": "4f4b135b",
   "metadata": {},
   "outputs": [],
   "source": [
    "data1=data[:1800]"
   ]
  },
  {
   "cell_type": "code",
   "execution_count": 44,
   "id": "c02ffcef",
   "metadata": {},
   "outputs": [],
   "source": [
    "a,b,c=coint(data1[\"FANG\"],data1[\"XOM\"])"
   ]
  },
  {
   "cell_type": "code",
   "execution_count": 45,
   "id": "df2ebade",
   "metadata": {},
   "outputs": [
    {
     "data": {
      "text/plain": [
       "0.9204105602268067"
      ]
     },
     "execution_count": 45,
     "metadata": {},
     "output_type": "execute_result"
    }
   ],
   "source": [
    "b"
   ]
  },
  {
   "cell_type": "code",
   "execution_count": null,
   "id": "9ab87b81",
   "metadata": {},
   "outputs": [],
   "source": []
  },
  {
   "cell_type": "code",
   "execution_count": 21,
   "id": "0aba561a",
   "metadata": {},
   "outputs": [],
   "source": [
    "# ##KOTAK AND HDFC SAMPLE CODE\n",
    "# model=sm.ols(formula= \"{} ~ {}\".format(pairs[5][1],pairs[5][0]), data=data).fit()\n",
    "\n",
    "# model.summary()\n",
    "\n",
    "# model.params\n",
    "\n",
    "# TS=data[pairs[5][1]]-model.params[pairs[5][0]]*data[pairs[5][0]]"
   ]
  },
  {
   "cell_type": "code",
   "execution_count": 40,
   "id": "626341f3",
   "metadata": {},
   "outputs": [],
   "source": [
    "model=sm.ols(formula= \"{} ~ {}\".format(\"FANG\",\"XOM\"), data=data).fit()\n",
    "\n",
    "model.summary()\n",
    "\n",
    "model.params\n",
    "\n",
    "TS=data[\"FANG\"]-model.params[\"XOM\"]*data[\"XOM\"]"
   ]
  },
  {
   "cell_type": "code",
   "execution_count": 22,
   "id": "138dc0dd",
   "metadata": {},
   "outputs": [],
   "source": [
    "# model=sm.ols(formula= \"{} ~ {}\".format(pairs[12][0],pairs[12][1]), data=data).fit()\n",
    "\n",
    "# model.summary()\n",
    "\n",
    "# model.params\n",
    "\n",
    "# TS=data[pairs[12][0]]-model.params[pairs[12][1]]*data[pairs[12][1]]"
   ]
  },
  {
   "cell_type": "markdown",
   "id": "f73179e2",
   "metadata": {},
   "source": [
    "### Stationarity test for Generated Time Series"
   ]
  },
  {
   "cell_type": "code",
   "execution_count": 23,
   "id": "ff2559d8",
   "metadata": {},
   "outputs": [
    {
     "name": "stdout",
     "output_type": "stream",
     "text": [
      "ADF Statistic: -3.437005\n",
      "p-value: 0.009760\n",
      "Critical Values:\n",
      "\t1%: -3.433\n",
      "\t5%: -2.863\n",
      "\t10%: -2.567\n"
     ]
    }
   ],
   "source": [
    "X = TS.values\n",
    "result = adfuller(X)\n",
    "print('ADF Statistic: %f' % result[0])\n",
    "print('p-value: %f' % result[1])\n",
    "print('Critical Values:')\n",
    "for key, value in result[4].items():\n",
    "\tprint('\\t%s: %.3f' % (key, value))"
   ]
  },
  {
   "cell_type": "code",
   "execution_count": 24,
   "id": "c721b2a2",
   "metadata": {},
   "outputs": [
    {
     "data": {
      "text/plain": [
       "0    48.853711\n",
       "1    48.786287\n",
       "2    48.337748\n",
       "3    49.440858\n",
       "4    49.711135\n",
       "dtype: float64"
      ]
     },
     "execution_count": 24,
     "metadata": {},
     "output_type": "execute_result"
    }
   ],
   "source": [
    "TS[:5]"
   ]
  },
  {
   "cell_type": "code",
   "execution_count": 25,
   "id": "23d16e91",
   "metadata": {},
   "outputs": [],
   "source": [
    "TS_test=TS[2000:].reset_index(drop=True)\n",
    "TS=TS[:2000]"
   ]
  },
  {
   "cell_type": "code",
   "execution_count": 26,
   "id": "d754006f",
   "metadata": {},
   "outputs": [],
   "source": [
    "meanp=TS.mean()\n",
    "sdp=TS.std()"
   ]
  },
  {
   "cell_type": "markdown",
   "id": "38232b26",
   "metadata": {},
   "source": [
    "### Computing hit rate for a given Standard Deviation"
   ]
  },
  {
   "cell_type": "code",
   "execution_count": 27,
   "id": "0145f6a4",
   "metadata": {},
   "outputs": [],
   "source": [
    "dict_hits={}"
   ]
  },
  {
   "cell_type": "code",
   "execution_count": 28,
   "id": "1e8764c8",
   "metadata": {},
   "outputs": [],
   "source": [
    "for n in np.linspace(1,2,21):\n",
    "    count=0\n",
    "    for i in range(len(TS)-1):\n",
    "        if (TS[i]<meanp-n*sdp) and (TS[i+1]>meanp-n*sdp):\n",
    "            count+=1\n",
    "        if (TS[i]>meanp-n*sdp) and (TS[i+1]<meanp-n*sdp):\n",
    "            count+=1\n",
    "        if (TS[i]<meanp+n*sdp) and (TS[i+1]>meanp+n*sdp):\n",
    "            count+=1\n",
    "        if (TS[i]>meanp+n*sdp) and (TS[i+1]<meanp+n*sdp):\n",
    "            count+=1\n",
    "        dict_hits[round(n,2)]=count\n",
    "        \n",
    "        "
   ]
  },
  {
   "cell_type": "code",
   "execution_count": 29,
   "id": "45a517d0",
   "metadata": {},
   "outputs": [
    {
     "data": {
      "text/html": [
       "<div>\n",
       "<style scoped>\n",
       "    .dataframe tbody tr th:only-of-type {\n",
       "        vertical-align: middle;\n",
       "    }\n",
       "\n",
       "    .dataframe tbody tr th {\n",
       "        vertical-align: top;\n",
       "    }\n",
       "\n",
       "    .dataframe thead th {\n",
       "        text-align: right;\n",
       "    }\n",
       "</style>\n",
       "<table border=\"1\" class=\"dataframe\">\n",
       "  <thead>\n",
       "    <tr style=\"text-align: right;\">\n",
       "      <th></th>\n",
       "      <th>Hits</th>\n",
       "    </tr>\n",
       "  </thead>\n",
       "  <tbody>\n",
       "    <tr>\n",
       "      <th>1.00</th>\n",
       "      <td>101</td>\n",
       "    </tr>\n",
       "    <tr>\n",
       "      <th>1.05</th>\n",
       "      <td>95</td>\n",
       "    </tr>\n",
       "    <tr>\n",
       "      <th>1.10</th>\n",
       "      <td>71</td>\n",
       "    </tr>\n",
       "    <tr>\n",
       "      <th>1.15</th>\n",
       "      <td>59</td>\n",
       "    </tr>\n",
       "    <tr>\n",
       "      <th>1.20</th>\n",
       "      <td>63</td>\n",
       "    </tr>\n",
       "  </tbody>\n",
       "</table>\n",
       "</div>"
      ],
      "text/plain": [
       "      Hits\n",
       "1.00   101\n",
       "1.05    95\n",
       "1.10    71\n",
       "1.15    59\n",
       "1.20    63"
      ]
     },
     "execution_count": 29,
     "metadata": {},
     "output_type": "execute_result"
    }
   ],
   "source": [
    "optim_hits=pd.DataFrame(dict_hits.values(),index=dict_hits.keys(), columns=[\"Hits\"])\n",
    "optim_hits.head()"
   ]
  },
  {
   "cell_type": "code",
   "execution_count": 30,
   "id": "fb724239",
   "metadata": {},
   "outputs": [
    {
     "data": {
      "text/html": [
       "<div>\n",
       "<style scoped>\n",
       "    .dataframe tbody tr th:only-of-type {\n",
       "        vertical-align: middle;\n",
       "    }\n",
       "\n",
       "    .dataframe tbody tr th {\n",
       "        vertical-align: top;\n",
       "    }\n",
       "\n",
       "    .dataframe thead th {\n",
       "        text-align: right;\n",
       "    }\n",
       "</style>\n",
       "<table border=\"1\" class=\"dataframe\">\n",
       "  <thead>\n",
       "    <tr style=\"text-align: right;\">\n",
       "      <th></th>\n",
       "      <th>Hits</th>\n",
       "    </tr>\n",
       "  </thead>\n",
       "  <tbody>\n",
       "    <tr>\n",
       "      <th>1.00</th>\n",
       "      <td>101</td>\n",
       "    </tr>\n",
       "    <tr>\n",
       "      <th>1.05</th>\n",
       "      <td>95</td>\n",
       "    </tr>\n",
       "    <tr>\n",
       "      <th>1.10</th>\n",
       "      <td>71</td>\n",
       "    </tr>\n",
       "    <tr>\n",
       "      <th>1.20</th>\n",
       "      <td>63</td>\n",
       "    </tr>\n",
       "    <tr>\n",
       "      <th>1.25</th>\n",
       "      <td>61</td>\n",
       "    </tr>\n",
       "    <tr>\n",
       "      <th>1.15</th>\n",
       "      <td>59</td>\n",
       "    </tr>\n",
       "    <tr>\n",
       "      <th>1.40</th>\n",
       "      <td>59</td>\n",
       "    </tr>\n",
       "    <tr>\n",
       "      <th>1.30</th>\n",
       "      <td>51</td>\n",
       "    </tr>\n",
       "    <tr>\n",
       "      <th>1.35</th>\n",
       "      <td>51</td>\n",
       "    </tr>\n",
       "    <tr>\n",
       "      <th>1.65</th>\n",
       "      <td>49</td>\n",
       "    </tr>\n",
       "    <tr>\n",
       "      <th>1.80</th>\n",
       "      <td>47</td>\n",
       "    </tr>\n",
       "    <tr>\n",
       "      <th>1.70</th>\n",
       "      <td>45</td>\n",
       "    </tr>\n",
       "    <tr>\n",
       "      <th>1.75</th>\n",
       "      <td>43</td>\n",
       "    </tr>\n",
       "    <tr>\n",
       "      <th>1.45</th>\n",
       "      <td>43</td>\n",
       "    </tr>\n",
       "    <tr>\n",
       "      <th>1.60</th>\n",
       "      <td>41</td>\n",
       "    </tr>\n",
       "    <tr>\n",
       "      <th>1.50</th>\n",
       "      <td>39</td>\n",
       "    </tr>\n",
       "    <tr>\n",
       "      <th>1.85</th>\n",
       "      <td>35</td>\n",
       "    </tr>\n",
       "    <tr>\n",
       "      <th>1.55</th>\n",
       "      <td>33</td>\n",
       "    </tr>\n",
       "    <tr>\n",
       "      <th>1.95</th>\n",
       "      <td>30</td>\n",
       "    </tr>\n",
       "    <tr>\n",
       "      <th>1.90</th>\n",
       "      <td>28</td>\n",
       "    </tr>\n",
       "    <tr>\n",
       "      <th>2.00</th>\n",
       "      <td>26</td>\n",
       "    </tr>\n",
       "  </tbody>\n",
       "</table>\n",
       "</div>"
      ],
      "text/plain": [
       "      Hits\n",
       "1.00   101\n",
       "1.05    95\n",
       "1.10    71\n",
       "1.20    63\n",
       "1.25    61\n",
       "1.15    59\n",
       "1.40    59\n",
       "1.30    51\n",
       "1.35    51\n",
       "1.65    49\n",
       "1.80    47\n",
       "1.70    45\n",
       "1.75    43\n",
       "1.45    43\n",
       "1.60    41\n",
       "1.50    39\n",
       "1.85    35\n",
       "1.55    33\n",
       "1.95    30\n",
       "1.90    28\n",
       "2.00    26"
      ]
     },
     "execution_count": 30,
     "metadata": {},
     "output_type": "execute_result"
    }
   ],
   "source": [
    "optim_hits.sort_values([\"Hits\"], ascending=False)"
   ]
  },
  {
   "cell_type": "code",
   "execution_count": 31,
   "id": "76ef82cd",
   "metadata": {},
   "outputs": [],
   "source": [
    "optim_hits[\"Hits_filter\"]=np.where(optim_hits.Hits>optim_hits.Hits.mean()+optim_hits.Hits.std(),1,0)"
   ]
  },
  {
   "cell_type": "markdown",
   "id": "5efbcb41",
   "metadata": {},
   "source": [
    "### Highest hit rate selection for a particular standard deviation"
   ]
  },
  {
   "cell_type": "code",
   "execution_count": 32,
   "id": "9d973fd3",
   "metadata": {},
   "outputs": [
    {
     "data": {
      "text/plain": [
       "array([1.  , 1.05, 1.1 ])"
      ]
     },
     "execution_count": 32,
     "metadata": {},
     "output_type": "execute_result"
    }
   ],
   "source": [
    "type_dev=optim_hits[optim_hits[\"Hits_filter\"]==1].index.values\n",
    "type_dev"
   ]
  },
  {
   "cell_type": "markdown",
   "id": "a5aa3d57",
   "metadata": {},
   "source": [
    "### Computing performance metrics for the given set of Standard Deviation"
   ]
  },
  {
   "cell_type": "code",
   "execution_count": 33,
   "id": "87f9439f",
   "metadata": {},
   "outputs": [],
   "source": [
    "metrics_dict=[]\n",
    "for n_dev in type_dev:\n",
    "\n",
    "\n",
    "    sl=(meanp-(meanp-n_dev*sdp))/((meanp-n_dev*sdp)*2)\n",
    "\n",
    "    posv=[]\n",
    "    arrb=[]\n",
    "    arrs=[]\n",
    "\n",
    "    pos=0\n",
    "    for i in range(len(TS)):\n",
    "        if (TS[i]<=meanp-sdp*n_dev) & (TS[i]>=(meanp-sdp*n_dev)*(1-sl/3)):\n",
    "            if pos==0:\n",
    "                pos=1\n",
    "                posv.append(pos)\n",
    "                arrb.append(TS[i])\n",
    "\n",
    "        if (TS[i]>=meanp+sdp*n_dev) & (TS[i]<=(meanp+sdp*n_dev)*(1+sl/3)):\n",
    "            if pos==0:\n",
    "                pos=-1\n",
    "                posv.append(pos)\n",
    "                arrb.append(TS[i])\n",
    "\n",
    "        if TS[i]>=meanp:\n",
    "            if pos==1:\n",
    "                pos=0\n",
    "                arrs.append(TS[i])\n",
    "        if TS[i]<=meanp:\n",
    "            if pos==-1:\n",
    "                pos=0\n",
    "                arrs.append(TS[i])\n",
    "\n",
    "        if TS[i]<=(meanp-sdp*n_dev)*(1-sl):\n",
    "            if pos==1:\n",
    "                pos=0\n",
    "                arrs.append(TS[i])\n",
    "\n",
    "        if TS[i]>=(meanp+sdp*n_dev)*(1+sl):\n",
    "            if pos==-1:\n",
    "                pos=0\n",
    "                arrs.append(TS[i])\n",
    "\n",
    "    return_arr=[]\n",
    "\n",
    "    for i in range(len(arrs)):\n",
    "        if posv[i]==1:\n",
    "            return_arr.append((arrs[i]-arrb[i])/arrb[i])\n",
    "        if posv[i]==-1:\n",
    "            return_arr.append((arrb[i]-arrs[i])/arrb[i])\n",
    "    return_arr=np.array(return_arr)\n",
    "    sharpe_ratio=return_arr.mean()/return_arr.std()\n",
    "    ov_ret=(1+return_arr).cumprod()[-1]\n",
    "    metrics_dict.append([n_dev,sharpe_ratio,ov_ret])"
   ]
  },
  {
   "cell_type": "code",
   "execution_count": 34,
   "id": "9ad40846",
   "metadata": {},
   "outputs": [
    {
     "data": {
      "text/html": [
       "<div>\n",
       "<style scoped>\n",
       "    .dataframe tbody tr th:only-of-type {\n",
       "        vertical-align: middle;\n",
       "    }\n",
       "\n",
       "    .dataframe tbody tr th {\n",
       "        vertical-align: top;\n",
       "    }\n",
       "\n",
       "    .dataframe thead th {\n",
       "        text-align: right;\n",
       "    }\n",
       "</style>\n",
       "<table border=\"1\" class=\"dataframe\">\n",
       "  <thead>\n",
       "    <tr style=\"text-align: right;\">\n",
       "      <th></th>\n",
       "      <th>Dev</th>\n",
       "      <th>Sharpe</th>\n",
       "      <th>Overall_Ret</th>\n",
       "    </tr>\n",
       "  </thead>\n",
       "  <tbody>\n",
       "    <tr>\n",
       "      <th>0</th>\n",
       "      <td>1.00</td>\n",
       "      <td>0.369547</td>\n",
       "      <td>1.391772</td>\n",
       "    </tr>\n",
       "    <tr>\n",
       "      <th>1</th>\n",
       "      <td>1.05</td>\n",
       "      <td>0.272164</td>\n",
       "      <td>1.303166</td>\n",
       "    </tr>\n",
       "    <tr>\n",
       "      <th>2</th>\n",
       "      <td>1.10</td>\n",
       "      <td>0.288690</td>\n",
       "      <td>1.296061</td>\n",
       "    </tr>\n",
       "  </tbody>\n",
       "</table>\n",
       "</div>"
      ],
      "text/plain": [
       "    Dev    Sharpe  Overall_Ret\n",
       "0  1.00  0.369547     1.391772\n",
       "1  1.05  0.272164     1.303166\n",
       "2  1.10  0.288690     1.296061"
      ]
     },
     "execution_count": 34,
     "metadata": {},
     "output_type": "execute_result"
    }
   ],
   "source": [
    "pd.DataFrame(metrics_dict, columns=[\"Dev\", \"Sharpe\", \"Overall_Ret\"])"
   ]
  },
  {
   "cell_type": "markdown",
   "id": "a1dbd178",
   "metadata": {},
   "source": [
    "### Selecting the appropriate standard deviation"
   ]
  },
  {
   "cell_type": "code",
   "execution_count": 35,
   "id": "3edf37fd",
   "metadata": {},
   "outputs": [],
   "source": [
    "n_dev=1.1"
   ]
  },
  {
   "cell_type": "code",
   "execution_count": 36,
   "id": "d059f40e",
   "metadata": {},
   "outputs": [],
   "source": [
    "sl=(meanp-(meanp-n_dev*sdp))/((meanp-n_dev*sdp)*2)"
   ]
  },
  {
   "cell_type": "code",
   "execution_count": 37,
   "id": "a2c3031f",
   "metadata": {},
   "outputs": [
    {
     "data": {
      "text/plain": [
       "<matplotlib.lines.Line2D at 0x1ba05f8a2e0>"
      ]
     },
     "execution_count": 37,
     "metadata": {},
     "output_type": "execute_result"
    },
    {
     "data": {
      "image/png": "[encoded data removed]",
      "text/plain": [
       "<Figure size 432x288 with 1 Axes>"
      ]
     },
     "metadata": {},
     "output_type": "display_data"
    }
   ],
   "source": [
    "plt.plot(TS)\n",
    "plt.axhline(TS.mean(), color='black')\n",
    "plt.axhline(TS.mean()+n_dev*TS.std(), color='red')\n",
    "plt.axhline(TS.mean()-n_dev*TS.std(), color='red')\n",
    "plt.axhline((TS.mean()+n_dev*TS.std())*(1+sl/3), color='pink')\n",
    "plt.axhline((TS.mean()-n_dev*TS.std())*(1-sl/3), color='pink')\n",
    "plt.axhline((TS.mean()+n_dev*TS.std())*(1+sl), color='black')\n",
    "plt.axhline((TS.mean()-n_dev*TS.std())*(1-sl), color='black')"
   ]
  },
  {
   "cell_type": "markdown",
   "id": "d3d6d28c",
   "metadata": {},
   "source": [
    "### In sample Testing and Trade Log"
   ]
  },
  {
   "cell_type": "code",
   "execution_count": 38,
   "id": "f6362764",
   "metadata": {},
   "outputs": [],
   "source": [
    "posv=[]\n",
    "arrb=[]\n",
    "arrs=[]\n",
    "\n",
    "pos=0\n",
    "for i in range(len(TS)):\n",
    "    if (TS[i]<=meanp-sdp*n_dev) & (TS[i]>=(meanp-sdp*n_dev)*(1-sl/3)):\n",
    "        if pos==0:\n",
    "            pos=1\n",
    "            posv.append(pos)\n",
    "            arrb.append(TS[i])\n",
    "\n",
    "    if (TS[i]>=meanp+sdp*n_dev) & (TS[i]<=(meanp+sdp*n_dev)*(1+sl/3)):\n",
    "        if pos==0:\n",
    "            pos=-1\n",
    "            posv.append(pos)\n",
    "            arrb.append(TS[i])\n",
    "\n",
    "    if TS[i]>=meanp:\n",
    "        if pos==1:\n",
    "            pos=0\n",
    "            arrs.append(TS[i])\n",
    "    if TS[i]<=meanp:\n",
    "        if pos==-1:\n",
    "            pos=0\n",
    "            arrs.append(TS[i])\n",
    "            \n",
    "    if TS[i]<=(meanp-sdp*n_dev)*(1-sl):\n",
    "        if pos==1:\n",
    "            pos=0\n",
    "            arrs.append(TS[i])\n",
    "    \n",
    "    if TS[i]>=(meanp+sdp*n_dev)*(1+sl):\n",
    "        if pos==-1:\n",
    "            pos=0\n",
    "            arrs.append(TS[i])"
   ]
  },
  {
   "cell_type": "code",
   "execution_count": 39,
   "id": "081d2c0d",
   "metadata": {},
   "outputs": [],
   "source": [
    "return_arr=[]\n",
    "\n",
    "for i in range(len(arrs)):\n",
    "    if posv[i]==1:\n",
    "        return_arr.append((arrs[i]-arrb[i])/arrb[i])\n",
    "    if posv[i]==-1:\n",
    "        return_arr.append((arrb[i]-arrs[i])/arrb[i])\n",
    "        "
   ]
  },
  {
   "cell_type": "code",
   "execution_count": 40,
   "id": "9622e89c",
   "metadata": {},
   "outputs": [
    {
     "data": {
      "text/plain": [
       "array([0.9523876 , 1.04632495, 1.12263378, 1.24597926, 1.18261104,\n",
       "       1.11998333, 1.21217021, 1.14747019, 1.25759621, 1.37745902,\n",
       "       1.49979154, 1.44380013, 1.40115584, 1.34713394, 1.2960611 ])"
      ]
     },
     "execution_count": 40,
     "metadata": {},
     "output_type": "execute_result"
    }
   ],
   "source": [
    "(1+np.array(return_arr)).cumprod()"
   ]
  },
  {
   "cell_type": "code",
   "execution_count": 41,
   "id": "c42372a4",
   "metadata": {},
   "outputs": [
    {
     "name": "stdout",
     "output_type": "stream",
     "text": [
      "    pos   buy/sell      close  profit/loss\n",
      "0     1  44.427972  42.312650    -0.047612\n",
      "1     1  43.935698  48.269231     0.098634\n",
      "2    -1  51.982617  48.191507     0.072930\n",
      "3     1  43.946090  48.774513     0.109872\n",
      "4    -1  51.914565  54.554845    -0.050858\n",
      "5    -1  52.549536  55.332409    -0.052957\n",
      "6    -1  52.406757  48.093108     0.082311\n",
      "7    -1  51.972493  54.746543    -0.053375\n",
      "8    -1  52.523849  47.482984     0.095973\n",
      "9     1  44.345070  48.571645     0.095311\n",
      "10    1  44.402539  48.345941     0.088810\n",
      "11    1  44.078020  42.432464    -0.037333\n",
      "12    1  43.962625  42.664138    -0.029536\n",
      "13    1  44.059585  42.360858    -0.038555\n",
      "14    1  44.383614  42.700933    -0.037912\n"
     ]
    }
   ],
   "source": [
    "if len(arrb)==len(arrs):\n",
    "    print(pd.DataFrame(data={\"pos\":posv, \"buy/sell\":arrb, \"close\":arrs, \"profit/loss\":return_arr}))\n",
    "else:\n",
    "    print(pd.DataFrame(data={\"pos\":posv[:-1], \"buy/sell\":arrb[:-1], \"close\":arrs, \"profit/loss\":return_arr} ))\n",
    "        \n",
    "    "
   ]
  },
  {
   "cell_type": "code",
   "execution_count": 42,
   "id": "9aa57f2d",
   "metadata": {},
   "outputs": [],
   "source": [
    "# pd.DataFrame(data={\"pos\":posv, \"buy/sell\":arrb, \"close\":arrs, \"profit/loss\":return_arr} )"
   ]
  },
  {
   "cell_type": "markdown",
   "id": "631199fa",
   "metadata": {},
   "source": [
    "### O/S Testing and Trade Log"
   ]
  },
  {
   "cell_type": "code",
   "execution_count": 43,
   "id": "a126dffa",
   "metadata": {},
   "outputs": [
    {
     "data": {
      "image/png": "[encoded data removed]",
      "text/plain": [
       "<Figure size 576x432 with 1 Axes>"
      ]
     },
     "metadata": {},
     "output_type": "display_data"
    }
   ],
   "source": [
    "plt.figure(figsize=(8,6))\n",
    "plt.plot(TS_test)\n",
    "plt.axhline(TS.mean(), color='black')\n",
    "plt.axhline(TS.mean()+n_dev*TS.std(), color='red')\n",
    "plt.axhline(TS.mean()-n_dev*TS.std(), color='red')\n",
    "plt.axhline((TS.mean()+n_dev*TS.std())*(1+sl/3), color='pink')\n",
    "plt.axhline((TS.mean()-n_dev*TS.std())*(1-sl/3), color='pink')\n",
    "plt.axhline((TS.mean()+n_dev*TS.std())*(1+sl), color='black')\n",
    "plt.axhline((TS.mean()-n_dev*TS.std())*(1-sl), color='black')\n",
    "plt.xticks(np.arange(min(range(len(TS_test))), max(range(len(TS_test)))+1, 50))\n",
    "plt.show()"
   ]
  },
  {
   "cell_type": "code",
   "execution_count": 44,
   "id": "283a0ac6",
   "metadata": {},
   "outputs": [],
   "source": [
    "posvt=[]\n",
    "arrbt=[]\n",
    "arrst=[]\n",
    "\n",
    "pos=0"
   ]
  },
  {
   "cell_type": "code",
   "execution_count": 45,
   "id": "27247879",
   "metadata": {},
   "outputs": [],
   "source": [
    "for i in range(len(TS_test)):\n",
    "    if (TS_test[i]<=meanp-sdp*n_dev) & (TS_test[i]>=(meanp-sdp*n_dev)*(1-sl/2)):\n",
    "        if pos==0:\n",
    "            pos=1\n",
    "            posvt.append(pos)\n",
    "            arrbt.append(TS_test[i])\n",
    "\n",
    "    if (TS_test[i]>=meanp+sdp*n_dev) & (TS_test[i]<=(meanp+sdp*n_dev)*(1+sl/2)):\n",
    "        if pos==0:\n",
    "            pos=-1\n",
    "            posvt.append(pos)\n",
    "            arrbt.append(TS_test[i])\n",
    "\n",
    "    if TS_test[i]>=meanp:\n",
    "        if pos==1:\n",
    "            pos=0\n",
    "            arrst.append(TS_test[i])\n",
    "    if TS_test[i]<=meanp:\n",
    "        if pos==-1:\n",
    "            pos=0\n",
    "            arrst.append(TS_test[i])\n",
    "            \n",
    "    if TS_test[i]<=(meanp-sdp*n_dev)*(1-sl):\n",
    "        if pos==1:\n",
    "            pos=0\n",
    "            arrst.append(TS_test[i])\n",
    "    \n",
    "    if TS_test[i]>=(meanp+sdp*n_dev)*(1+sl):\n",
    "        if pos==-1:\n",
    "            pos=0\n",
    "            arrst.append(TS_test[i])"
   ]
  },
  {
   "cell_type": "code",
   "execution_count": 46,
   "id": "b9dc496e",
   "metadata": {},
   "outputs": [],
   "source": [
    "return_arrt=[]\n",
    "\n",
    "for i in range(len(arrst)):\n",
    "    if posvt[i]==1:\n",
    "        return_arrt.append((arrst[i]-arrbt[i])/arrbt[i])\n",
    "    if posvt[i]==-1:\n",
    "        return_arrt.append((arrbt[i]-arrst[i])/arrbt[i])\n",
    "        "
   ]
  },
  {
   "cell_type": "code",
   "execution_count": 47,
   "id": "a491fddc",
   "metadata": {},
   "outputs": [
    {
     "data": {
      "text/plain": [
       "[43.7112990509266,\n",
       " 44.33794156437217,\n",
       " 52.00499478875331,\n",
       " 52.55982849648595,\n",
       " 52.91612147215024,\n",
       " 44.20315474787476]"
      ]
     },
     "execution_count": 47,
     "metadata": {},
     "output_type": "execute_result"
    }
   ],
   "source": [
    "arrbt"
   ]
  },
  {
   "cell_type": "code",
   "execution_count": 48,
   "id": "249679fb",
   "metadata": {},
   "outputs": [],
   "source": [
    "# trade_log=pd.DataFrame(data={\"pos\":posvt[:-1], \"buy/sell\":arrbt[:-1], \"close\":arrst} )\n",
    "# trade_log"
   ]
  },
  {
   "cell_type": "code",
   "execution_count": 49,
   "id": "21e4580d",
   "metadata": {},
   "outputs": [
    {
     "data": {
      "text/html": [
       "<div>\n",
       "<style scoped>\n",
       "    .dataframe tbody tr th:only-of-type {\n",
       "        vertical-align: middle;\n",
       "    }\n",
       "\n",
       "    .dataframe tbody tr th {\n",
       "        vertical-align: top;\n",
       "    }\n",
       "\n",
       "    .dataframe thead th {\n",
       "        text-align: right;\n",
       "    }\n",
       "</style>\n",
       "<table border=\"1\" class=\"dataframe\">\n",
       "  <thead>\n",
       "    <tr style=\"text-align: right;\">\n",
       "      <th></th>\n",
       "      <th>pos</th>\n",
       "      <th>buy/sell</th>\n",
       "      <th>close</th>\n",
       "    </tr>\n",
       "  </thead>\n",
       "  <tbody>\n",
       "    <tr>\n",
       "      <th>0</th>\n",
       "      <td>1</td>\n",
       "      <td>43.711299</td>\n",
       "      <td>42.603784</td>\n",
       "    </tr>\n",
       "    <tr>\n",
       "      <th>1</th>\n",
       "      <td>1</td>\n",
       "      <td>44.337942</td>\n",
       "      <td>48.235061</td>\n",
       "    </tr>\n",
       "    <tr>\n",
       "      <th>2</th>\n",
       "      <td>-1</td>\n",
       "      <td>52.004995</td>\n",
       "      <td>54.260527</td>\n",
       "    </tr>\n",
       "    <tr>\n",
       "      <th>3</th>\n",
       "      <td>-1</td>\n",
       "      <td>52.559828</td>\n",
       "      <td>54.521138</td>\n",
       "    </tr>\n",
       "    <tr>\n",
       "      <th>4</th>\n",
       "      <td>-1</td>\n",
       "      <td>52.916121</td>\n",
       "      <td>48.070900</td>\n",
       "    </tr>\n",
       "    <tr>\n",
       "      <th>5</th>\n",
       "      <td>1</td>\n",
       "      <td>44.203155</td>\n",
       "      <td>49.134418</td>\n",
       "    </tr>\n",
       "  </tbody>\n",
       "</table>\n",
       "</div>"
      ],
      "text/plain": [
       "   pos   buy/sell      close\n",
       "0    1  43.711299  42.603784\n",
       "1    1  44.337942  48.235061\n",
       "2   -1  52.004995  54.260527\n",
       "3   -1  52.559828  54.521138\n",
       "4   -1  52.916121  48.070900\n",
       "5    1  44.203155  49.134418"
      ]
     },
     "execution_count": 49,
     "metadata": {},
     "output_type": "execute_result"
    }
   ],
   "source": [
    "trade_log=pd.DataFrame(data={\"pos\":posvt, \"buy/sell\":arrbt, \"close\":arrst} )\n",
    "trade_log"
   ]
  },
  {
   "cell_type": "code",
   "execution_count": 50,
   "id": "d4ae46cf",
   "metadata": {},
   "outputs": [],
   "source": [
    "pl_arr=[]\n",
    "for i in range(len(trade_log)):\n",
    "    if trade_log.pos[i]==-1:\n",
    "        pl_arr.append((trade_log[\"buy/sell\"][i]-trade_log[\"close\"][i])/trade_log[\"buy/sell\"][i])\n",
    "    if trade_log.pos[i]==1:\n",
    "        pl_arr.append((-trade_log[\"buy/sell\"][i]+trade_log[\"close\"][i])/trade_log[\"buy/sell\"][i])"
   ]
  },
  {
   "cell_type": "code",
   "execution_count": 51,
   "id": "d8257d15",
   "metadata": {},
   "outputs": [
    {
     "data": {
      "text/html": [
       "<div>\n",
       "<style scoped>\n",
       "    .dataframe tbody tr th:only-of-type {\n",
       "        vertical-align: middle;\n",
       "    }\n",
       "\n",
       "    .dataframe tbody tr th {\n",
       "        vertical-align: top;\n",
       "    }\n",
       "\n",
       "    .dataframe thead th {\n",
       "        text-align: right;\n",
       "    }\n",
       "</style>\n",
       "<table border=\"1\" class=\"dataframe\">\n",
       "  <thead>\n",
       "    <tr style=\"text-align: right;\">\n",
       "      <th></th>\n",
       "      <th>pos</th>\n",
       "      <th>buy/sell</th>\n",
       "      <th>close</th>\n",
       "      <th>profit_loss</th>\n",
       "    </tr>\n",
       "  </thead>\n",
       "  <tbody>\n",
       "    <tr>\n",
       "      <th>0</th>\n",
       "      <td>1</td>\n",
       "      <td>43.711299</td>\n",
       "      <td>42.603784</td>\n",
       "      <td>-0.025337</td>\n",
       "    </tr>\n",
       "    <tr>\n",
       "      <th>1</th>\n",
       "      <td>1</td>\n",
       "      <td>44.337942</td>\n",
       "      <td>48.235061</td>\n",
       "      <td>0.087896</td>\n",
       "    </tr>\n",
       "    <tr>\n",
       "      <th>2</th>\n",
       "      <td>-1</td>\n",
       "      <td>52.004995</td>\n",
       "      <td>54.260527</td>\n",
       "      <td>-0.043371</td>\n",
       "    </tr>\n",
       "    <tr>\n",
       "      <th>3</th>\n",
       "      <td>-1</td>\n",
       "      <td>52.559828</td>\n",
       "      <td>54.521138</td>\n",
       "      <td>-0.037316</td>\n",
       "    </tr>\n",
       "    <tr>\n",
       "      <th>4</th>\n",
       "      <td>-1</td>\n",
       "      <td>52.916121</td>\n",
       "      <td>48.070900</td>\n",
       "      <td>0.091564</td>\n",
       "    </tr>\n",
       "    <tr>\n",
       "      <th>5</th>\n",
       "      <td>1</td>\n",
       "      <td>44.203155</td>\n",
       "      <td>49.134418</td>\n",
       "      <td>0.111559</td>\n",
       "    </tr>\n",
       "  </tbody>\n",
       "</table>\n",
       "</div>"
      ],
      "text/plain": [
       "   pos   buy/sell      close  profit_loss\n",
       "0    1  43.711299  42.603784    -0.025337\n",
       "1    1  44.337942  48.235061     0.087896\n",
       "2   -1  52.004995  54.260527    -0.043371\n",
       "3   -1  52.559828  54.521138    -0.037316\n",
       "4   -1  52.916121  48.070900     0.091564\n",
       "5    1  44.203155  49.134418     0.111559"
      ]
     },
     "execution_count": 51,
     "metadata": {},
     "output_type": "execute_result"
    }
   ],
   "source": [
    "trade_log[\"profit_loss\"]=pl_arr\n",
    "trade_log"
   ]
  },
  {
   "cell_type": "code",
   "execution_count": 52,
   "id": "b4afcbf8",
   "metadata": {},
   "outputs": [
    {
     "data": {
      "text/plain": [
       "0    0.974663\n",
       "1    1.060332\n",
       "2    1.014344\n",
       "3    0.976493\n",
       "4    1.065904\n",
       "5    1.184816\n",
       "Name: profit_loss, dtype: float64"
      ]
     },
     "execution_count": 52,
     "metadata": {},
     "output_type": "execute_result"
    }
   ],
   "source": [
    "(1+trade_log.profit_loss).cumprod()"
   ]
  },
  {
   "cell_type": "code",
   "execution_count": 53,
   "id": "e18b3c7a",
   "metadata": {},
   "outputs": [
    {
     "name": "stdout",
     "output_type": "stream",
     "text": [
      "The O/S sharpe ratio is 0.4214007959555137\n"
     ]
    }
   ],
   "source": [
    "print(\"The O/S sharpe ratio is {}\".format(trade_log.profit_loss.mean()/trade_log.profit_loss.std()))"
   ]
  },
  {
   "cell_type": "code",
   "execution_count": null,
   "id": "2537a329",
   "metadata": {},
   "outputs": [],
   "source": []
  }
 ],
 "metadata": {
  "hide_input": false,
  "kernelspec": {
   "display_name": "Python 3 (ipykernel)",
   "language": "python",
   "name": "python3"
  },
  "language_info": {
   "codemirror_mode": {
    "name": "ipython",
    "version": 3
   },
   "file_extension": ".py",
   "mimetype": "text/x-python",
   "name": "python",
   "nbconvert_exporter": "python",
   "pygments_lexer": "ipython3",
   "version": "3.9.7"
  }
 },
 "nbformat": 4,
 "nbformat_minor": 5
}
